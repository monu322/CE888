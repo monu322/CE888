{
  "nbformat": 4,
  "nbformat_minor": 0,
  "metadata": {
    "colab": {
      "name": "Heroku repo and aop links",
      "provenance": [],
      "authorship_tag": "ABX9TyO2ihtH4DEeqZfzzgQ3F2oG",
      "include_colab_link": true
    },
    "kernelspec": {
      "name": "python3",
      "display_name": "Python 3"
    },
    "language_info": {
      "name": "python"
    }
  },
  "cells": [
    {
      "cell_type": "markdown",
      "metadata": {
        "id": "view-in-github",
        "colab_type": "text"
      },
      "source": [
        "<a href=\"https://colab.research.google.com/github/monu322/CE888/blob/main/Lab10/Heroku_repo_and_app_links.ipynb\" target=\"_parent\"><img src=\"https://colab.research.google.com/assets/colab-badge.svg\" alt=\"Open In Colab\"/></a>"
      ]
    },
    {
      "cell_type": "markdown",
      "metadata": {
        "id": "WTSgF2_QVGSa"
      },
      "source": [
        "Link to GitHub repo connected to Heroku\n",
        "https://github.com/monu322/modeldeploy\n",
        "\n",
        "Link to Heroku App\n",
        "https://insurancedeploy.herokuapp.com/"
      ]
    }
  ]
}