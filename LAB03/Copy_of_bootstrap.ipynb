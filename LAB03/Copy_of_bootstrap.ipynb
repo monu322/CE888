{
  "nbformat": 4,
  "nbformat_minor": 0,
  "metadata": {
    "colab": {
      "name": "Copy of bootstrap.ipynb",
      "provenance": [],
      "collapsed_sections": [],
      "include_colab_link": true
    },
    "kernelspec": {
      "display_name": "Python 3",
      "language": "python",
      "name": "python3"
    },
    "language_info": {
      "codemirror_mode": {
        "name": "ipython",
        "version": 3
      },
      "file_extension": ".py",
      "mimetype": "text/x-python",
      "name": "python",
      "nbconvert_exporter": "python",
      "pygments_lexer": "ipython3",
      "version": "3.7.6"
    },
    "pycharm": {
      "stem_cell": {
        "cell_type": "raw",
        "metadata": {
          "collapsed": false
        },
        "source": []
      }
    }
  },
  "cells": [
    {
      "cell_type": "markdown",
      "metadata": {
        "id": "view-in-github",
        "colab_type": "text"
      },
      "source": [
        "<a href=\"https://colab.research.google.com/github/monu322/CE888/blob/main/LAB03/Copy_of_bootstrap.ipynb\" target=\"_parent\"><img src=\"https://colab.research.google.com/assets/colab-badge.svg\" alt=\"Open In Colab\"/></a>"
      ]
    },
    {
      "cell_type": "markdown",
      "metadata": {
        "id": "nCi_99yMYIb1"
      },
      "source": [
        "In this notebook you'll create your own bootstrap function following the bootstrap algorithm (check the lecture notes!)"
      ]
    },
    {
      "cell_type": "code",
      "metadata": {
        "id": "LY5zujI2YC37"
      },
      "source": [
        "import matplotlib.pyplot as plt\n",
        "import pandas as pd\n",
        "import seaborn as sns\n",
        "import numpy as np\n",
        "import random\n",
        "\n",
        "def bootstrap_std_ci(x, sample_size, n_bootstraps, ci):\n",
        "  sample_matrix = []\n",
        "  bootstraps_std = []\n",
        "\n",
        "  for i in range(n_bootstraps):\n",
        "      sample = []\n",
        "\n",
        "      for i in range(sample_size):\n",
        "        sample.append(random.choice(x))\n",
        "      \n",
        "      sample_matrix.append(sample)\n",
        "      bootstraps_std.append(np.std(sample))\n",
        "\n",
        "  #print(bootstraps_mean)\n",
        "  \n",
        "  lower_bound = ((100-ci)/2)\n",
        "  upper_bound = 100-lower_bound\n",
        "\n",
        "  lower, upper = np.percentile(bootstraps_std, [lower_bound, upper_bound])\n",
        "  #print(np.mean(bootstraps_mean), lower, upper)\n",
        "  return np.mean(bootstraps_std), lower, upper"
      ],
      "execution_count": 2,
      "outputs": []
    },
    {
      "cell_type": "code",
      "metadata": {
        "colab": {
          "base_uri": "https://localhost:8080/"
        },
        "id": "Eqkwj4SMY38t",
        "outputId": "b0a222f4-0c2a-479a-cb04-c4f5e7c0ccba"
      },
      "source": [
        "# Load the data\n",
        "df = pd.read_csv('https://raw.githubusercontent.com/albanda/CE888/master/lab2%20-%20bootstrap/customers.csv')\n",
        "sales_array = df.values.T[1]\n",
        "\n",
        "bootstrap_std_ci(sales_array, sales_array.shape[0], 10000, 99)"
      ],
      "execution_count": 66,
      "outputs": [
        {
          "output_type": "execute_result",
          "data": {
            "text/plain": [
              "(5.335789766241528, 2.2632827882506943, 7.877928660137825)"
            ]
          },
          "metadata": {
            "tags": []
          },
          "execution_count": 66
        }
      ]
    },
    {
      "cell_type": "code",
      "metadata": {
        "colab": {
          "base_uri": "https://localhost:8080/"
        },
        "id": "Gxvc_bScYC4H",
        "outputId": "626debdb-e1ad-4fa7-9abe-f3a468acdf06"
      },
      "source": [
        "# Checking the notes from the lecture, create here your own bootstrap function:\n",
        "# 1. Sample from the input array x to create an array of samples of shape (n_bootstraps, sample_size)\n",
        "# Hint: Check the function random.choice() on Numpy\n",
        "# 2. Calculate and save the mean of the array (this is \"data_mean\" that is returned by the function)\n",
        "# 3. Calculate the mean from each bootstrap (i.e., row) and store it.\n",
        "# (This should be an array of n_bootstraps values)\n",
        "# 4. Calculate the lower and upper bounds for a 95% CI (hint: check the percentile function on Numpy)\n",
        "# 5. Return data_mean, and the lower and upper bounds of your interval\n",
        "\n",
        "\n",
        "\n",
        "\n",
        "\n",
        "\n",
        "def bootstrap_mean(x, sample_size, n_bootstraps):\n",
        "\t\n",
        "  sample_matrix = []\n",
        "  bootstraps_mean = []\n",
        "\n",
        "  for i in range(n_bootstraps):\n",
        "      sample = []\n",
        "\n",
        "      for i in range(sample_size):\n",
        "        sample.append(random.choice(x))\n",
        "      \n",
        "      sample_matrix.append(sample)\n",
        "      bootstraps_mean.append(np.mean(sample))\n",
        "\n",
        "  #print(bootstraps_mean)\n",
        "  \n",
        "  lower, upper = np.percentile(bootstraps_mean, [2.5, 97.5])\n",
        "  #print(np.mean(bootstraps_mean), lower, upper)\n",
        "  return np.mean(bootstraps_mean), lower, upper\n",
        "\n",
        "bootstrap_mean(data, sample_size, n_bootstraps)"
      ],
      "execution_count": null,
      "outputs": [
        {
          "output_type": "execute_result",
          "data": {
            "text/plain": [
              "(9.277000000000001, 5.9475, 12.3525)"
            ]
          },
          "metadata": {
            "tags": []
          },
          "execution_count": 6
        }
      ]
    },
    {
      "cell_type": "code",
      "metadata": {
        "colab": {
          "base_uri": "https://localhost:8080/",
          "height": 709
        },
        "id": "AN7sEOcMYC4P",
        "outputId": "7c38b0ba-e33f-4750-9447-310f73265944"
      },
      "source": [
        "# Call your bootstrap function and plot the results\n",
        "\n",
        "\n",
        "boots = []\n",
        "for i in range(100, 1000, 10):\n",
        "    boot = bootstrap_mean(data, data.shape[0], i)\n",
        "    boots.append([i, boot[0], \"mean\"])\n",
        "    boots.append([i, boot[1], \"lower\"])\n",
        "    boots.append([i, boot[2], \"upper\"])\n",
        "\n",
        "print(boots)\n",
        "df_boot = pd.DataFrame(boots, columns=['Bootstrap Iterations', 'Mean', \"Value\"])\n",
        "print(df_boot)\n",
        "\n",
        "sns_plot = sns.lmplot(df_boot.columns[0], df_boot.columns[1], data=df_boot, fit_reg=False, hue=\"Value\")\n",
        "\n",
        "sns_plot.axes[0, 0].set_ylim(0,)\n",
        "sns_plot.axes[0, 0].set_xlim(0, 1000)\n"
      ],
      "execution_count": null,
      "outputs": [
        {
          "output_type": "stream",
          "text": [
            "[[100, 9.315, 'mean'], [100, 6.380357142857143, 'lower'], [100, 11.717857142857142, 'upper'], [110, 9.399350649350648, 'mean'], [110, 6.992857142857143, 'lower'], [110, 12.376785714285713, 'upper'], [120, 9.077380952380953, 'mean'], [120, 6.5625, 'lower'], [120, 11.937499999999996, 'upper'], [130, 9.204945054945055, 'mean'], [130, 6.071428571428571, 'lower'], [130, 12.316071428571425, 'upper'], [140, 9.329081632653061, 'mean'], [140, 6.421428571428571, 'lower'], [140, 11.755357142857145, 'upper'], [150, 9.204761904761906, 'mean'], [150, 6.8374999999999995, 'lower'], [150, 12.16964285714286, 'upper'], [160, 9.187053571428573, 'mean'], [160, 6.571428571428571, 'lower'], [160, 12.52678571428572, 'upper'], [170, 9.05798319327731, 'mean'], [170, 6.928571428571429, 'lower'], [170, 12.039285714285715, 'upper'], [180, 9.299603174603176, 'mean'], [180, 6.5339285714285715, 'lower'], [180, 12.50357142857143, 'upper'], [190, 9.388721804511277, 'mean'], [190, 6.817857142857143, 'lower'], [190, 12.650000000000002, 'upper'], [200, 9.182857142857141, 'mean'], [200, 6.707142857142857, 'lower'], [200, 12.144642857142857, 'upper'], [210, 9.288095238095238, 'mean'], [210, 6.5874999999999995, 'lower'], [210, 11.896428571428572, 'upper'], [220, 9.10616883116883, 'mean'], [220, 6.105357142857143, 'lower'], [220, 12.258928571428573, 'upper'], [230, 9.046273291925464, 'mean'], [230, 6.266071428571429, 'lower'], [230, 11.571428571428571, 'upper'], [240, 9.245833333333334, 'mean'], [240, 6.642857142857143, 'lower'], [240, 12.430357142857144, 'upper'], [250, 9.278857142857143, 'mean'], [250, 6.317857142857143, 'lower'], [250, 12.269642857142857, 'upper'], [260, 9.270329670329671, 'mean'], [260, 6.639285714285714, 'lower'], [260, 12.575, 'upper'], [270, 9.156084656084655, 'mean'], [270, 6.194642857142858, 'lower'], [270, 12.091071428571427, 'upper'], [280, 9.268112244897958, 'mean'], [280, 6.139285714285715, 'lower'], [280, 12.219642857142851, 'upper'], [290, 9.347044334975369, 'mean'], [290, 6.603571428571428, 'lower'], [290, 12.55535714285714, 'upper'], [300, 9.286428571428571, 'mean'], [300, 6.605357142857143, 'lower'], [300, 12.864285714285707, 'upper'], [310, 9.136635944700462, 'mean'], [310, 6.194642857142858, 'lower'], [310, 12.253571428571425, 'upper'], [320, 9.377455357142857, 'mean'], [320, 6.855357142857142, 'lower'], [320, 12.571428571428571, 'upper'], [330, 9.125108225108223, 'mean'], [330, 6.642857142857143, 'lower'], [330, 12.126785714285713, 'upper'], [340, 9.203991596638657, 'mean'], [340, 6.676785714285714, 'lower'], [340, 12.289285714285711, 'upper'], [350, 9.358775510204081, 'mean'], [350, 6.460714285714285, 'lower'], [350, 12.448214285714284, 'upper'], [360, 9.16984126984127, 'mean'], [360, 6.5, 'lower'], [360, 12.001785714285713, 'upper'], [370, 9.122972972972972, 'mean'], [370, 6.516071428571428, 'lower'], [370, 12.341071428571428, 'upper'], [380, 9.314849624060152, 'mean'], [380, 6.496428571428571, 'lower'], [380, 12.439285714285704, 'upper'], [390, 9.355860805860807, 'mean'], [390, 6.571428571428571, 'lower'], [390, 12.5, 'upper'], [400, 9.25375, 'mean'], [400, 6.357142857142857, 'lower'], [400, 12.71785714285714, 'upper'], [410, 9.163066202090594, 'mean'], [410, 6.357142857142857, 'lower'], [410, 12.341071428571428, 'upper'], [420, 9.14234693877551, 'mean'], [420, 6.5, 'lower'], [420, 12.041071428571424, 'upper'], [430, 9.322757475083057, 'mean'], [430, 6.551785714285714, 'lower'], [430, 12.5, 'upper'], [440, 9.234415584415586, 'mean'], [440, 6.498214285714286, 'lower'], [440, 12.071428571428571, 'upper'], [450, 9.27793650793651, 'mean'], [450, 6.6589285714285715, 'lower'], [450, 12.357142857142858, 'upper'], [460, 9.263975155279505, 'mean'], [460, 6.428571428571429, 'lower'], [460, 12.642857142857142, 'upper'], [470, 9.317021276595744, 'mean'], [470, 6.603571428571429, 'lower'], [470, 12.357142857142858, 'upper'], [480, 9.207440476190476, 'mean'], [480, 6.571428571428571, 'lower'], [480, 12.571428571428571, 'upper'], [490, 9.288483965014578, 'mean'], [490, 6.571428571428571, 'lower'], [490, 12.42857142857143, 'upper'], [500, 9.275714285714287, 'mean'], [500, 6.4625, 'lower'], [500, 12.428571428571429, 'upper'], [510, 9.250140056022408, 'mean'], [510, 6.357142857142858, 'lower'], [510, 12.662499999999998, 'upper'], [520, 9.114148351648351, 'mean'], [520, 6.5, 'lower'], [520, 12.285714285714286, 'upper'], [530, 9.248921832884095, 'mean'], [530, 6.5, 'lower'], [530, 12.5, 'upper'], [540, 9.221957671957673, 'mean'], [540, 6.642857142857143, 'lower'], [540, 12.571428571428571, 'upper'], [550, 9.191948051948053, 'mean'], [550, 6.3375, 'lower'], [550, 12.285714285714286, 'upper'], [560, 9.18954081632653, 'mean'], [560, 6.567857142857143, 'lower'], [560, 12.148214285714282, 'upper'], [570, 9.259147869674186, 'mean'], [570, 6.516071428571428, 'lower'], [570, 12.48392857142857, 'upper'], [580, 9.151600985221673, 'mean'], [580, 6.357142857142857, 'lower'], [580, 12.60892857142857, 'upper'], [590, 9.242130750605327, 'mean'], [590, 6.194642857142858, 'lower'], [590, 12.428571428571429, 'upper'], [600, 9.188809523809525, 'mean'], [600, 6.498214285714286, 'lower'], [600, 12.360714285714282, 'upper'], [610, 9.196252927400467, 'mean'], [610, 6.357142857142857, 'lower'], [610, 12.142857142857142, 'upper'], [620, 9.326152073732718, 'mean'], [620, 6.748214285714286, 'lower'], [620, 12.285714285714286, 'upper'], [630, 9.308276643990931, 'mean'], [630, 6.623214285714286, 'lower'], [630, 12.214285714285714, 'upper'], [640, 9.317745535714286, 'mean'], [640, 6.428571428571429, 'lower'], [640, 12.430357142857142, 'upper'], [650, 9.165824175824177, 'mean'], [650, 6.642857142857143, 'lower'], [650, 12.42857142857143, 'upper'], [660, 9.28668831168831, 'mean'], [660, 6.285714285714286, 'lower'], [660, 12.714285714285714, 'upper'], [670, 9.274626865671642, 'mean'], [670, 6.480357142857143, 'lower'], [670, 12.071428571428571, 'upper'], [680, 9.260294117647058, 'mean'], [680, 6.357142857142857, 'lower'], [680, 12.289285714285711, 'upper'], [690, 9.259316770186334, 'mean'], [690, 6.373214285714286, 'lower'], [690, 12.285714285714288, 'upper'], [700, 9.178163265306123, 'mean'], [700, 6.428571428571429, 'lower'], [700, 12.214285714285714, 'upper'], [710, 9.201207243460765, 'mean'], [710, 6.5, 'lower'], [710, 12.285714285714286, 'upper'], [720, 9.102083333333333, 'mean'], [720, 6.428571428571429, 'lower'], [720, 11.928571428571429, 'upper'], [730, 9.35812133072407, 'mean'], [730, 6.642857142857143, 'lower'], [730, 12.642857142857142, 'upper'], [740, 9.23561776061776, 'mean'], [740, 6.5339285714285715, 'lower'], [740, 12.357142857142858, 'upper'], [750, 9.211809523809524, 'mean'], [750, 6.357142857142858, 'lower'], [750, 12.233928571428569, 'upper'], [760, 9.215507518796992, 'mean'], [760, 6.498214285714286, 'lower'], [760, 12.428571428571429, 'upper'], [770, 9.218089053803338, 'mean'], [770, 6.373214285714286, 'lower'], [770, 12.269642857142856, 'upper'], [780, 8.9996336996337, 'mean'], [780, 6.357142857142857, 'lower'], [780, 12.071428571428571, 'upper'], [790, 9.188426763110307, 'mean'], [790, 6.5, 'lower'], [790, 12.357142857142858, 'upper'], [800, 9.225714285714286, 'mean'], [800, 6.355357142857143, 'lower'], [800, 12.571428571428571, 'upper'], [810, 9.238800705467373, 'mean'], [810, 6.444642857142857, 'lower'], [810, 12.142857142857142, 'upper'], [820, 9.22630662020906, 'mean'], [820, 6.285714285714286, 'lower'], [820, 12.428571428571429, 'upper'], [830, 9.235714285714286, 'mean'], [830, 6.5, 'lower'], [830, 12.214285714285714, 'upper'], [840, 9.285204081632653, 'mean'], [840, 6.428571428571429, 'lower'], [840, 12.358928571428569, 'upper'], [850, 9.32344537815126, 'mean'], [850, 6.444642857142857, 'lower'], [850, 12.269642857142856, 'upper'], [860, 9.342940199335548, 'mean'], [860, 6.571428571428571, 'lower'], [860, 12.714285714285714, 'upper'], [870, 9.175862068965516, 'mean'], [870, 6.4089285714285715, 'lower'], [870, 12.285714285714286, 'upper'], [880, 9.235633116883117, 'mean'], [880, 6.428571428571429, 'lower'], [880, 12.285714285714286, 'upper'], [890, 9.229133226324237, 'mean'], [890, 6.357142857142857, 'lower'], [890, 12.214285714285712, 'upper'], [900, 9.168333333333333, 'mean'], [900, 6.285714285714286, 'lower'], [900, 12.10892857142857, 'upper'], [910, 9.243328100470956, 'mean'], [910, 6.428571428571429, 'lower'], [910, 12.357142857142858, 'upper'], [920, 9.1791149068323, 'mean'], [920, 6.5, 'lower'], [920, 12.214285714285714, 'upper'], [930, 9.129723502304145, 'mean'], [930, 6.357142857142857, 'lower'], [930, 12.198214285714283, 'upper'], [940, 9.196960486322187, 'mean'], [940, 6.391071428571428, 'lower'], [940, 12.285714285714286, 'upper'], [950, 9.310150375939852, 'mean'], [950, 6.5, 'lower'], [950, 12.519642857142856, 'upper'], [960, 9.15126488095238, 'mean'], [960, 6.357142857142857, 'lower'], [960, 12.428571428571429, 'upper'], [970, 9.22938144329897, 'mean'], [970, 6.642857142857143, 'lower'], [970, 12.357142857142858, 'upper'], [980, 9.159475218658892, 'mean'], [980, 6.357142857142857, 'lower'], [980, 12.142857142857142, 'upper'], [990, 9.136291486291485, 'mean'], [990, 6.357142857142858, 'lower'], [990, 12.448214285714284, 'upper']]\n",
            "     Bootstrap Iterations       Mean  Value\n",
            "0                     100   9.315000   mean\n",
            "1                     100   6.380357  lower\n",
            "2                     100  11.717857  upper\n",
            "3                     110   9.399351   mean\n",
            "4                     110   6.992857  lower\n",
            "..                    ...        ...    ...\n",
            "265                   980   6.357143  lower\n",
            "266                   980  12.142857  upper\n",
            "267                   990   9.136291   mean\n",
            "268                   990   6.357143  lower\n",
            "269                   990  12.448214  upper\n",
            "\n",
            "[270 rows x 3 columns]\n"
          ],
          "name": "stdout"
        },
        {
          "output_type": "stream",
          "text": [
            "/usr/local/lib/python3.6/dist-packages/seaborn/_decorators.py:43: FutureWarning: Pass the following variables as keyword args: x, y. From version 0.12, the only valid positional argument will be `data`, and passing other arguments without an explicit keyword will result in an error or misinterpretation.\n",
            "  FutureWarning\n"
          ],
          "name": "stderr"
        },
        {
          "output_type": "execute_result",
          "data": {
            "text/plain": [
              "(0.0, 1000.0)"
            ]
          },
          "metadata": {
            "tags": []
          },
          "execution_count": 20
        },
        {
          "output_type": "display_data",
          "data": {
            "image/png": "[encoded data removed]",
            "text/plain": [
              "<Figure size 425.125x360 with 1 Axes>"
            ]
          },
          "metadata": {
            "tags": []
          }
        }
      ]
    },
    {
      "cell_type": "markdown",
      "metadata": {
        "id": "MjtP4e2_YC4V"
      },
      "source": [
        "\n",
        "Now, modify the bootstrap function you created above so that you can pass your desired confidence interval as a parameter.\n",
        "\n"
      ]
    },
    {
      "cell_type": "code",
      "metadata": {
        "id": "3K9j0FuGYhHs"
      },
      "source": [
        "def bootstrap_mean_ci(x, sample_size, n_bootstraps, ci):\n",
        "  sample_matrix = []\n",
        "  bootstraps_mean = []\n",
        "\n",
        "  for i in range(n_bootstraps):\n",
        "      sample = []\n",
        "\n",
        "      for i in range(sample_size):\n",
        "        sample.append(random.choice(x))\n",
        "      \n",
        "      sample_matrix.append(sample)\n",
        "      bootstraps_mean.append(np.mean(sample))\n",
        "\n",
        "  #print(bootstraps_mean)\n",
        "  \n",
        "  lower_bound = ((100-ci)/2)\n",
        "  upper_bound = 100-lower_bound\n",
        "\n",
        "  lower, upper = np.percentile(bootstraps_mean, [lower_bound, upper_bound])\n",
        "  #print(np.mean(bootstraps_mean), lower, upper)\n",
        "  return np.mean(bootstraps_mean), lower, upper\n",
        "\n"
      ],
      "execution_count": 61,
      "outputs": []
    },
    {
      "cell_type": "code",
      "metadata": {
        "colab": {
          "base_uri": "https://localhost:8080/",
          "height": 456
        },
        "id": "uDnjq08GYl-C",
        "outputId": "830fc6df-933a-4ee0-ab51-4e86693afe74"
      },
      "source": [
        "boots = []\n",
        "for i in range(100, 50000, 1000):\n",
        "    boot = bootstrap_mean_ci(data, data.shape[0], i, 80)\n",
        "    boots.append([i, boot[0], \"mean\"])\n",
        "    boots.append([i, boot[1], \"lower\"])\n",
        "    boots.append([i, boot[2], \"upper\"])\n",
        "\n",
        "df_boot = pd.DataFrame(boots, columns=['Boostrap Iterations', 'Mean', \"Value\"])\n",
        "sns_plot = sns.lmplot(df_boot.columns[0], df_boot.columns[1], data=df_boot, fit_reg=False, hue=\"Value\")\n",
        "\n",
        "sns_plot.axes[0, 0].set_ylim(0,)\n",
        "sns_plot.axes[0, 0].set_xlim(0, 50000)\n",
        "\n",
        "#sns_plot.savefig(\"bootstrap_confidence_80.pdf\", bbox_inches='tight')\n"
      ],
      "execution_count": 27,
      "outputs": [
        {
          "output_type": "stream",
          "text": [
            "/usr/local/lib/python3.6/dist-packages/seaborn/_decorators.py:43: FutureWarning: Pass the following variables as keyword args: x, y. From version 0.12, the only valid positional argument will be `data`, and passing other arguments without an explicit keyword will result in an error or misinterpretation.\n",
            "  FutureWarning\n"
          ],
          "name": "stderr"
        },
        {
          "output_type": "execute_result",
          "data": {
            "text/plain": [
              "(0.0, 50000.0)"
            ]
          },
          "metadata": {
            "tags": []
          },
          "execution_count": 27
        },
        {
          "output_type": "display_data",
          "data": {
            "image/png": "[encoded data removed]",
            "text/plain": [
              "<Figure size 425.125x360 with 1 Axes>"
            ]
          },
          "metadata": {
            "tags": [],
            "needs_background": "light"
          }
        }
      ]
    },
    {
      "cell_type": "markdown",
      "metadata": {
        "id": "qjNgXW6wdd7r"
      },
      "source": [
        "# Vehicles dataset\n",
        "\n",
        "Now let's work on a different dataset, which is stored in the vehicles.csv file.\n"
      ]
    },
    {
      "cell_type": "code",
      "metadata": {
        "colab": {
          "base_uri": "https://localhost:8080/",
          "height": 401
        },
        "id": "avWv4ipFdpka",
        "outputId": "b436e55c-876a-4952-9719-c6a557ae4191"
      },
      "source": [
        "# Load and visualise the vehicles dataset\n",
        "# To load the dataset: https://neptune.ai/blog/google-colab-dealing-with-files (check section \"Load individual files directly from GitHub\")\n",
        "\n",
        "# Load the data\n",
        "df = pd.read_csv('https://raw.githubusercontent.com/albanda/CE888/master/lab2%20-%20bootstrap/vehicles.csv')\n",
        "pd.set_option('display.max_rows', df.shape[0]+1)\n",
        "print(df.columns)\n",
        "current_fleet = df.values.T[0]\n",
        "new_fleet = df.values.T[1]\n",
        "#new_fleet = new_fleet[np.logical_not(np.isnan(new_fleet))]\n",
        "new_fleet_na = new_fleet[np.logical_not(np.isnan(new_fleet))]\n",
        "#print('current fleet', current_fleet)\n",
        "#print('new fleet', new_fleet)\n",
        "\n",
        "fleet_id = []\n",
        "for i in range(len(current_fleet)):\n",
        "  fleet_id.append(i)\n",
        "\n",
        "fig=plt.figure()\n",
        "ax=fig.add_axes([0,0,1,1])\n",
        "ax.scatter(fleet_id, current_fleet, color='r')\n",
        "ax.scatter(fleet_id, new_fleet, color='b')\n",
        "ax.set_xlabel('Fleet ID')\n",
        "ax.set_ylabel('Performance')\n",
        "ax.set_title('scatter plot')\n",
        "plt.legend()\n",
        "plt.show()\n",
        "\n",
        "\n",
        "# Note that the current and new fleets are in different columns and have different lengths, so bear this in mind when you're plotting.\n",
        "# You can create separate scatterplots for the two fleets, as you would with the histograms, \n",
        "# or plot them both in one plot (but not one against the other).\n",
        "# <---INSERT YOUR CODE HERE--->\n",
        "# Note: you can add more cells as needed to organise your code and your plots\n"
      ],
      "execution_count": 29,
      "outputs": [
        {
          "output_type": "stream",
          "text": [
            "No handles with labels found to put in legend.\n"
          ],
          "name": "stderr"
        },
        {
          "output_type": "stream",
          "text": [
            "Index(['Current fleet', 'New Fleet'], dtype='object')\n"
          ],
          "name": "stdout"
        },
        {
          "output_type": "display_data",
          "data": {
            "image/png": "[encoded data removed]",
            "text/plain": [
              "<Figure size 432x288 with 1 Axes>"
            ]
          },
          "metadata": {
            "tags": [],
            "needs_background": "light"
          }
        }
      ]
    },
    {
      "cell_type": "markdown",
      "metadata": {
        "id": "B5d0tXDpIEj8"
      },
      "source": [
        "## Compare the two fleets\r\n",
        "\r\n",
        "The business analysts come up a comparison algorithm that requires the upper and lower bounds for the mean in order to say which fleet is better.\r\n",
        "1. Calculate the mean of both samples.\r\n",
        "2. Using the bootstrap function that you created:\r\n",
        "    - Construct the 95% CI of the mean of the current fleet.\r\n",
        "    - Construct the 95% CI of the mean of the new fleet.\r\n",
        "    - Are they comparable? (i.e., is one better than the other?) -- you can do this with a permutation test (check the lecture notes!)"
      ]
    },
    {
      "cell_type": "code",
      "metadata": {
        "colab": {
          "base_uri": "https://localhost:8080/"
        },
        "id": "po4mp6zRHC0m",
        "outputId": "f2fd0c54-5173-4211-e5ec-27fc26cca8f5"
      },
      "source": [
        "# <---INSERT YOUR CODE HERE--->\n",
        "current_fleet_mean = np.mean(current_fleet)\n",
        "new_fleet = new_fleet[np.logical_not(np.isnan(new_fleet))]\n",
        "new_fleet_mean = np.mean(new_fleet)\n",
        "print('Current Fleet mean : ', current_fleet_mean)\n",
        "print('New Fleet mean : ', new_fleet_mean)\n",
        "\n",
        "\n",
        "current_boot = bootstrap_mean_ci(current_fleet, current_fleet.shape[0], 20000, 95)\n",
        "new_boot = bootstrap_mean_ci(new_fleet, new_fleet.shape[0], 10000, 80)\n",
        "print('95% CI of mean of current fleet: ',current_boot)\n",
        "print('95% CI of mean of new fleet: ',new_boot)\n",
        "\n",
        "std_boot_current = bootstrap_std_ci(current_fleet, current_fleet.shape[0], 10000, 99)\n",
        "print('99% CI of std of old fleet: ',std_boot_current)"
      ],
      "execution_count": 62,
      "outputs": [
        {
          "output_type": "stream",
          "text": [
            "Current Fleet mean :  20.14457831325301\n",
            "New Fleet mean :  30.481012658227847\n",
            "95% CI of mean of current fleet:  (20.14739578313253, 19.349397590361445, 20.951807228915662)\n",
            "95% CI of mean of new fleet:  (30.484792405063292, 29.620253164556964, 31.354430379746834)\n",
            "99% CI of std of old fleet:  (6.379699866924944, 5.61860000255628, 7.136636901532917)\n"
          ],
          "name": "stdout"
        }
      ]
    },
    {
      "cell_type": "code",
      "metadata": {
        "id": "MkxvDZG4HC0n",
        "colab": {
          "base_uri": "https://localhost:8080/",
          "height": 383
        },
        "outputId": "3609c2a3-711d-4405-c37f-867c40898bc7"
      },
      "source": [
        "# Create your own function for a permutation test here (you will need it for the lab quiz!):\n",
        "def permut_test(sample1, sample2, n_permutations):\n",
        "    \"\"\"\n",
        "    sample1: 1D array\n",
        "    sample2: 1D array (note that the size of the two arrays can be different)\n",
        "    n_permutations: number of permutations to calculate the p-value\n",
        "    \"\"\"\n",
        "    #print(sample1)\n",
        "    #print(sample2)\n",
        "    sample1_mean = np.mean(sample1)\n",
        "    sample2_mean = np.mean(sample2)\n",
        "\n",
        "    t_obs = sample2_mean-sample1_mean\n",
        "\n",
        "    \n",
        "    concat_array = np.concatenate((sample1, sample2))\n",
        "    score = 0\n",
        "\n",
        "    for i in range(n_permutations):\n",
        "      perm = np.random.permutation(concat_array)\n",
        "      old_array = perm[:len(sample1)]\n",
        "      new_array = perm[len(sample1):len(perm)]\n",
        "      #print(perm)\n",
        "      #print(old_array)\n",
        "\n",
        "      old_mean = np.mean(old_array)\n",
        "      #print(old_mean)\n",
        "\n",
        "      #print(new_array)\n",
        "      new_mean = np.mean(new_array)\n",
        "      #print(new_mean)\n",
        "\n",
        "\n",
        "      t_perm = new_mean-old_mean\n",
        "\n",
        "      if(t_perm>t_obs):\n",
        "        score = score+1\n",
        "\n",
        "      #print(score)\n",
        "\n",
        "    pvalue = score/n_permutations\n",
        "\n",
        "    return pvalue\n",
        "\n",
        "#permut_test([0,0,0,0,0,0,1,0,0,1,0], [1,0,0,1,1,1,0,0,0,1,0], 20000)\n",
        "\n",
        "x_axis = []\n",
        "y_axis_pval = []\n",
        "\n",
        "for i in range(10, 30000, 100):\n",
        "  x_axis.append(i)\n",
        "  y_axis_pval.append(permut_test(current_fleet, new_fleet, i))\n",
        "  #y_axis_pval.append(permut_test([0,0,0,0,0,0,1,0,0,1,0], [1,0,0,1,1,1,0,0,0,1,0], i))\n",
        "\n",
        "fig=plt.figure()\n",
        "ax=fig.add_axes([0,0,1,1])\n",
        "ax.scatter(x_axis, y_axis_pval, color='b')\n",
        "ax.set_xlabel('Permutations')\n",
        "ax.set_ylabel('P-value')\n",
        "ax.set_title('scatter plot')\n",
        "plt.legend()\n",
        "plt.show()"
      ],
      "execution_count": 67,
      "outputs": [
        {
          "output_type": "stream",
          "text": [
            "No handles with labels found to put in legend.\n"
          ],
          "name": "stderr"
        },
        {
          "output_type": "display_data",
          "data": {
            "image/png": "[encoded data removed]",
            "text/plain": [
              "<Figure size 432x288 with 1 Axes>"
            ]
          },
          "metadata": {
            "tags": [],
            "needs_background": "light"
          }
        }
      ]
    },
    {
      "cell_type": "code",
      "metadata": {
        "colab": {
          "base_uri": "https://localhost:8080/"
        },
        "id": "OZTycmn0X23l",
        "outputId": "e6a6d36d-c66e-4620-973c-c576ae40cdc8"
      },
      "source": [
        "dem_share_PA = [60.08, 40.64, 36.07, 41.21, 31.04, 43.78, 44.08, 46.85, 44.71, 46.15, 63.10, 52.20, 43.18, 40.24, 39.92, 47.87, 37.77, 40.11, 49.85, 48.61, 38.62, 54.25, 34.84, 47.75, 43.82, 55.97, 58.23, 42.97, 42.38, 36.11, 37.53, 42.65, 50.96, 47.43, 56.24, 45.60, 46.39, 35.22, 48.56, 32.97, 57.88, 36.05, 37.72, 50.36, 32.12, 41.55, 54.66, 57.81, 54.58, 32.88, 54.37, 40.45, 47.61, 60.49, 43.11, 27.32, 44.03, 33.56, 37.26, 54.64, 43.12, 25.34, 49.79, 83.56, 40.09, 60.81, 49.81]\r\n",
        "dem_share_OH = [56.94, 50.46, 65.99, 45.88, 42.23, 45.26, 57.01, 53.61, 59.10, 61.48, 43.43, 44.69, 54.59, 48.36, 45.89, 48.62, 43.92, 38.23, 28.79, 63.57, 38.07, 40.18, 43.05, 41.56, 42.49, 36.06, 52.76, 46.07, 39.43, 39.26, 47.47, 27.92, 38.01, 45.45, 29.07, 28.94, 51.28, 50.10, 39.84, 36.43, 35.71, 31.47, 47.01, 40.10, 48.76, 31.56, 39.86, 45.31, 35.47, 51.38, 46.33, 48.73, 41.77, 41.32, 48.46, 53.14, 34.01, 54.74, 40.67, 38.96, 46.29, 38.25, 6.80, 31.75, 46.33, 44.90, 33.57, 38.10, 39.67, 40.47, 49.44, 37.62, 36.71, 46.73, 42.20, 53.16, 52.40, 58.36, 68.02, 38.53, 34.58, 69.64, 60.50, 53.53, 36.54, 49.58, 41.97, 38.11]\r\n",
        "\r\n",
        "dem_share_PA = np.array(dem_share_PA)\r\n",
        "dem_share_OH = np.array(dem_share_OH)\r\n",
        "print(dem_share_PA.shape[0])\r\n",
        "print(dem_share_OH.shape[0])\r\n",
        "\r\n",
        "#bootstrap_mean_ci(dem_share_OH, dem_share_OH.shape[0], 100000, 98)\r\n",
        "#bootstrap_mean_ci(dem_share_PA, dem_share_PA.shape[0], 100000, 98)\r\n",
        "\r\n",
        "permut_test(dem_share_PA, dem_share_OH, 30000)\r\n"
      ],
      "execution_count": 80,
      "outputs": [
        {
          "output_type": "stream",
          "text": [
            "67\n",
            "88\n"
          ],
          "name": "stdout"
        },
        {
          "output_type": "execute_result",
          "data": {
            "text/plain": [
              "0.7701333333333333"
            ]
          },
          "metadata": {
            "tags": []
          },
          "execution_count": 80
        }
      ]
    }
  ]
}