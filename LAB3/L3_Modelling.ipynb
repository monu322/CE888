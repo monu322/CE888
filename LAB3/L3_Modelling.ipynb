{
  "nbformat": 4,
  "nbformat_minor": 0,
  "metadata": {
    "colab": {
      "name": "L3_Modelling",
      "provenance": [],
      "authorship_tag": "ABX9TyMRwOvh6yYHu+kuLOwoHncD",
      "include_colab_link": true
    },
    "kernelspec": {
      "name": "python3",
      "display_name": "Python 3"
    }
  },
  "cells": [
    {
      "cell_type": "markdown",
      "metadata": {
        "id": "view-in-github",
        "colab_type": "text"
      },
      "source": [
        "<a href=\"https://colab.research.google.com/github/monu322/CE888/blob/main/LAB3/L3_Modelling.ipynb\" target=\"_parent\"><img src=\"https://colab.research.google.com/assets/colab-badge.svg\" alt=\"Open In Colab\"/></a>"
      ]
    },
    {
      "cell_type": "code",
      "metadata": {
        "id": "KYMuLCyXfgSx"
      },
      "source": [
        "import matplotlib\r\n",
        "import numpy as np\r\n",
        "import matplotlib.pyplot as plt\r\n",
        "import pandas as pd\r\n",
        "import seaborn as sns\r\n",
        "import itertools\r\n",
        "\r\n",
        "import sklearn\r\n",
        "from sklearn.tree import DecisionTreeRegressor\r\n",
        "from sklearn.ensemble import RandomForestClassifier, ExtraTreesClassifier\r\n",
        "from sklearn.model_selection import cross_val_score\r\n",
        "from sklearn.model_selection import train_test_split\r\n",
        "from sklearn.metrics import mean_squared_error as mse\r\n",
        "from sklearn.metrics import mean_absolute_error as mae\r\n",
        "from sklearn.metrics import accuracy_score as acc\r\n",
        "from sklearn.metrics import make_scorer, confusion_matrix\r\n",
        "from sklearn.dummy import DummyRegressor, DummyClassifier\r\n",
        "from sklearn.preprocessing import LabelEncoder\r\n",
        "\r\n"
      ],
      "execution_count": 64,
      "outputs": []
    },
    {
      "cell_type": "code",
      "metadata": {
        "colab": {
          "base_uri": "https://localhost:8080/",
          "height": 292
        },
        "id": "P4n9N4hof7Jz",
        "outputId": "f347a3f3-93b9-46c1-c4e1-7c1fbdb5d3ef"
      },
      "source": [
        "df0 = pd.read_csv(\"https://raw.githubusercontent.com/albanda/CE888/master/lab3/bank-additional-full.csv\", delimiter=\";\")\r\n",
        "\r\n",
        "print('Original number of columns: ',len(df0.columns))\r\n",
        "\r\n",
        "df0[[\"education\"]] = df0[[\"education\"]].apply(LabelEncoder().fit_transform)\r\n",
        "df0[[\"month\"]] = df0[[\"month\"]].apply(LabelEncoder().fit_transform)\r\n",
        "df0[[\"day_of_week\"]] = df0[[\"day_of_week\"]].apply(LabelEncoder().fit_transform)\r\n",
        "df0[[\"poutcome\"]] = df0[[\"poutcome\"]].apply(LabelEncoder().fit_transform)\r\n",
        "\r\n",
        "df0[[\"y\"]] = df0[[\"y\"]].apply(LabelEncoder().fit_transform)\r\n",
        "\r\n",
        "cat_features = [\"job\", \"marital\", \"default\", \"housing\", \"loan\", \"contact\"]\r\n",
        "df0 = pd.get_dummies(df0, columns=cat_features)\r\n",
        "\r\n",
        "df0 = df0.drop(['duration'], axis = 1)\r\n",
        "\r\n",
        "df0['pdays'].replace(999, 0, inplace=True)\r\n",
        "\r\n",
        "print('before dropna',df0.shape)\r\n",
        "\r\n",
        "df0 = df0.dropna()\r\n",
        "\r\n",
        "print('after dropna',df0.shape)\r\n",
        "\r\n",
        "df0.head()\r\n",
        "\r\n"
      ],
      "execution_count": 69,
      "outputs": [
        {
          "output_type": "stream",
          "text": [
            "Original number of columns:  21\n",
            "before dropna (41188, 41)\n",
            "after dropna (41188, 41)\n"
          ],
          "name": "stdout"
        },
        {
          "output_type": "execute_result",
          "data": {
            "text/html": [
              "<div>\n",
              "<style scoped>\n",
              "    .dataframe tbody tr th:only-of-type {\n",
              "        vertical-align: middle;\n",
              "    }\n",
              "\n",
              "    .dataframe tbody tr th {\n",
              "        vertical-align: top;\n",
              "    }\n",
              "\n",
              "    .dataframe thead th {\n",
              "        text-align: right;\n",
              "    }\n",
              "</style>\n",
              "<table border=\"1\" class=\"dataframe\">\n",
              "  <thead>\n",
              "    <tr style=\"text-align: right;\">\n",
              "      <th></th>\n",
              "      <th>age</th>\n",
              "      <th>education</th>\n",
              "      <th>month</th>\n",
              "      <th>day_of_week</th>\n",
              "      <th>campaign</th>\n",
              "      <th>pdays</th>\n",
              "      <th>previous</th>\n",
              "      <th>poutcome</th>\n",
              "      <th>emp.var.rate</th>\n",
              "      <th>cons.price.idx</th>\n",
              "      <th>cons.conf.idx</th>\n",
              "      <th>euribor3m</th>\n",
              "      <th>nr.employed</th>\n",
              "      <th>y</th>\n",
              "      <th>job_admin.</th>\n",
              "      <th>job_blue-collar</th>\n",
              "      <th>job_entrepreneur</th>\n",
              "      <th>job_housemaid</th>\n",
              "      <th>job_management</th>\n",
              "      <th>job_retired</th>\n",
              "      <th>job_self-employed</th>\n",
              "      <th>job_services</th>\n",
              "      <th>job_student</th>\n",
              "      <th>job_technician</th>\n",
              "      <th>job_unemployed</th>\n",
              "      <th>job_unknown</th>\n",
              "      <th>marital_divorced</th>\n",
              "      <th>marital_married</th>\n",
              "      <th>marital_single</th>\n",
              "      <th>marital_unknown</th>\n",
              "      <th>default_no</th>\n",
              "      <th>default_unknown</th>\n",
              "      <th>default_yes</th>\n",
              "      <th>housing_no</th>\n",
              "      <th>housing_unknown</th>\n",
              "      <th>housing_yes</th>\n",
              "      <th>loan_no</th>\n",
              "      <th>loan_unknown</th>\n",
              "      <th>loan_yes</th>\n",
              "      <th>contact_cellular</th>\n",
              "      <th>contact_telephone</th>\n",
              "    </tr>\n",
              "  </thead>\n",
              "  <tbody>\n",
              "    <tr>\n",
              "      <th>0</th>\n",
              "      <td>56</td>\n",
              "      <td>0</td>\n",
              "      <td>6</td>\n",
              "      <td>1</td>\n",
              "      <td>1</td>\n",
              "      <td>0</td>\n",
              "      <td>0</td>\n",
              "      <td>1</td>\n",
              "      <td>1.1</td>\n",
              "      <td>93.994</td>\n",
              "      <td>-36.4</td>\n",
              "      <td>4.857</td>\n",
              "      <td>5191.0</td>\n",
              "      <td>0</td>\n",
              "      <td>0</td>\n",
              "      <td>0</td>\n",
              "      <td>0</td>\n",
              "      <td>1</td>\n",
              "      <td>0</td>\n",
              "      <td>0</td>\n",
              "      <td>0</td>\n",
              "      <td>0</td>\n",
              "      <td>0</td>\n",
              "      <td>0</td>\n",
              "      <td>0</td>\n",
              "      <td>0</td>\n",
              "      <td>0</td>\n",
              "      <td>1</td>\n",
              "      <td>0</td>\n",
              "      <td>0</td>\n",
              "      <td>1</td>\n",
              "      <td>0</td>\n",
              "      <td>0</td>\n",
              "      <td>1</td>\n",
              "      <td>0</td>\n",
              "      <td>0</td>\n",
              "      <td>1</td>\n",
              "      <td>0</td>\n",
              "      <td>0</td>\n",
              "      <td>0</td>\n",
              "      <td>1</td>\n",
              "    </tr>\n",
              "    <tr>\n",
              "      <th>1</th>\n",
              "      <td>57</td>\n",
              "      <td>3</td>\n",
              "      <td>6</td>\n",
              "      <td>1</td>\n",
              "      <td>1</td>\n",
              "      <td>0</td>\n",
              "      <td>0</td>\n",
              "      <td>1</td>\n",
              "      <td>1.1</td>\n",
              "      <td>93.994</td>\n",
              "      <td>-36.4</td>\n",
              "      <td>4.857</td>\n",
              "      <td>5191.0</td>\n",
              "      <td>0</td>\n",
              "      <td>0</td>\n",
              "      <td>0</td>\n",
              "      <td>0</td>\n",
              "      <td>0</td>\n",
              "      <td>0</td>\n",
              "      <td>0</td>\n",
              "      <td>0</td>\n",
              "      <td>1</td>\n",
              "      <td>0</td>\n",
              "      <td>0</td>\n",
              "      <td>0</td>\n",
              "      <td>0</td>\n",
              "      <td>0</td>\n",
              "      <td>1</td>\n",
              "      <td>0</td>\n",
              "      <td>0</td>\n",
              "      <td>0</td>\n",
              "      <td>1</td>\n",
              "      <td>0</td>\n",
              "      <td>1</td>\n",
              "      <td>0</td>\n",
              "      <td>0</td>\n",
              "      <td>1</td>\n",
              "      <td>0</td>\n",
              "      <td>0</td>\n",
              "      <td>0</td>\n",
              "      <td>1</td>\n",
              "    </tr>\n",
              "    <tr>\n",
              "      <th>2</th>\n",
              "      <td>37</td>\n",
              "      <td>3</td>\n",
              "      <td>6</td>\n",
              "      <td>1</td>\n",
              "      <td>1</td>\n",
              "      <td>0</td>\n",
              "      <td>0</td>\n",
              "      <td>1</td>\n",
              "      <td>1.1</td>\n",
              "      <td>93.994</td>\n",
              "      <td>-36.4</td>\n",
              "      <td>4.857</td>\n",
              "      <td>5191.0</td>\n",
              "      <td>0</td>\n",
              "      <td>0</td>\n",
              "      <td>0</td>\n",
              "      <td>0</td>\n",
              "      <td>0</td>\n",
              "      <td>0</td>\n",
              "      <td>0</td>\n",
              "      <td>0</td>\n",
              "      <td>1</td>\n",
              "      <td>0</td>\n",
              "      <td>0</td>\n",
              "      <td>0</td>\n",
              "      <td>0</td>\n",
              "      <td>0</td>\n",
              "      <td>1</td>\n",
              "      <td>0</td>\n",
              "      <td>0</td>\n",
              "      <td>1</td>\n",
              "      <td>0</td>\n",
              "      <td>0</td>\n",
              "      <td>0</td>\n",
              "      <td>0</td>\n",
              "      <td>1</td>\n",
              "      <td>1</td>\n",
              "      <td>0</td>\n",
              "      <td>0</td>\n",
              "      <td>0</td>\n",
              "      <td>1</td>\n",
              "    </tr>\n",
              "    <tr>\n",
              "      <th>3</th>\n",
              "      <td>40</td>\n",
              "      <td>1</td>\n",
              "      <td>6</td>\n",
              "      <td>1</td>\n",
              "      <td>1</td>\n",
              "      <td>0</td>\n",
              "      <td>0</td>\n",
              "      <td>1</td>\n",
              "      <td>1.1</td>\n",
              "      <td>93.994</td>\n",
              "      <td>-36.4</td>\n",
              "      <td>4.857</td>\n",
              "      <td>5191.0</td>\n",
              "      <td>0</td>\n",
              "      <td>1</td>\n",
              "      <td>0</td>\n",
              "      <td>0</td>\n",
              "      <td>0</td>\n",
              "      <td>0</td>\n",
              "      <td>0</td>\n",
              "      <td>0</td>\n",
              "      <td>0</td>\n",
              "      <td>0</td>\n",
              "      <td>0</td>\n",
              "      <td>0</td>\n",
              "      <td>0</td>\n",
              "      <td>0</td>\n",
              "      <td>1</td>\n",
              "      <td>0</td>\n",
              "      <td>0</td>\n",
              "      <td>1</td>\n",
              "      <td>0</td>\n",
              "      <td>0</td>\n",
              "      <td>1</td>\n",
              "      <td>0</td>\n",
              "      <td>0</td>\n",
              "      <td>1</td>\n",
              "      <td>0</td>\n",
              "      <td>0</td>\n",
              "      <td>0</td>\n",
              "      <td>1</td>\n",
              "    </tr>\n",
              "    <tr>\n",
              "      <th>4</th>\n",
              "      <td>56</td>\n",
              "      <td>3</td>\n",
              "      <td>6</td>\n",
              "      <td>1</td>\n",
              "      <td>1</td>\n",
              "      <td>0</td>\n",
              "      <td>0</td>\n",
              "      <td>1</td>\n",
              "      <td>1.1</td>\n",
              "      <td>93.994</td>\n",
              "      <td>-36.4</td>\n",
              "      <td>4.857</td>\n",
              "      <td>5191.0</td>\n",
              "      <td>0</td>\n",
              "      <td>0</td>\n",
              "      <td>0</td>\n",
              "      <td>0</td>\n",
              "      <td>0</td>\n",
              "      <td>0</td>\n",
              "      <td>0</td>\n",
              "      <td>0</td>\n",
              "      <td>1</td>\n",
              "      <td>0</td>\n",
              "      <td>0</td>\n",
              "      <td>0</td>\n",
              "      <td>0</td>\n",
              "      <td>0</td>\n",
              "      <td>1</td>\n",
              "      <td>0</td>\n",
              "      <td>0</td>\n",
              "      <td>1</td>\n",
              "      <td>0</td>\n",
              "      <td>0</td>\n",
              "      <td>1</td>\n",
              "      <td>0</td>\n",
              "      <td>0</td>\n",
              "      <td>0</td>\n",
              "      <td>0</td>\n",
              "      <td>1</td>\n",
              "      <td>0</td>\n",
              "      <td>1</td>\n",
              "    </tr>\n",
              "  </tbody>\n",
              "</table>\n",
              "</div>"
            ],
            "text/plain": [
              "   age  education  month  ...  loan_yes  contact_cellular  contact_telephone\n",
              "0   56          0      6  ...         0                 0                  1\n",
              "1   57          3      6  ...         0                 0                  1\n",
              "2   37          3      6  ...         0                 0                  1\n",
              "3   40          1      6  ...         0                 0                  1\n",
              "4   56          3      6  ...         1                 0                  1\n",
              "\n",
              "[5 rows x 41 columns]"
            ]
          },
          "metadata": {
            "tags": []
          },
          "execution_count": 69
        }
      ]
    },
    {
      "cell_type": "code",
      "metadata": {
        "colab": {
          "base_uri": "https://localhost:8080/",
          "height": 265
        },
        "id": "wN6J1g48yMIG",
        "outputId": "5769cab4-2884-493e-838d-5de605367bc5"
      },
      "source": [
        "#for displaying the imbalance in the data  \r\n",
        "y = df0.values.T[14]\r\n",
        "\r\n",
        "sns_plot = sns.histplot(y, kde=False)\r\n",
        "\r\n"
      ],
      "execution_count": 66,
      "outputs": [
        {
          "output_type": "display_data",
          "data": {
            "image/png": "[encoded data removed]",
            "text/plain": [
              "<Figure size 432x288 with 1 Axes>"
            ]
          },
          "metadata": {
            "tags": [],
            "needs_background": "light"
          }
        }
      ]
    },
    {
      "cell_type": "code",
      "metadata": {
        "colab": {
          "base_uri": "https://localhost:8080/"
        },
        "id": "PHHjg12_1HcN",
        "outputId": "210de94f-99b7-44e9-a547-65cf39fb5e55"
      },
      "source": [
        "total = df0.shape[0]\r\n",
        "\r\n",
        "label_y = df0[df0[\"y\"] == 1]\r\n",
        "\r\n",
        "imbalance = (label_y.shape[0]/total)*100\r\n",
        "\r\n",
        "print('Imbalance: '+str(round(imbalance,2))+'%')"
      ],
      "execution_count": 67,
      "outputs": [
        {
          "output_type": "stream",
          "text": [
            "Imbalance: 11.27%\n"
          ],
          "name": "stdout"
        }
      ]
    },
    {
      "cell_type": "code",
      "metadata": {
        "colab": {
          "base_uri": "https://localhost:8080/"
        },
        "id": "YkPEhIUk4vag",
        "outputId": "45bace9c-cee1-4a94-f518-3fb7528f3a61"
      },
      "source": [
        "df = df0\r\n",
        "\r\n",
        "y = df[[\"y\"]].values.T[0]\r\n",
        "X = df.drop(['y'], axis=1)\r\n",
        "\r\n",
        "features = X.columns.values\r\n",
        "\r\n",
        "print(features)\r\n",
        "\r\n",
        "X = df.drop(['y'], axis=1).values\r\n",
        "\r\n",
        "X_train, X_test, y_train, y_test = train_test_split(X, y, test_size=0.2, random_state=50)\r\n",
        "\r\n",
        "print('Training data imbalance %: ', round(np.count_nonzero(y_train == 0)/len(y_train), 3)*100)\r\n",
        "print('Test data imbalance %: ', round(np.count_nonzero(y_test == 0)/len(y_test), 3)*100)\r\n"
      ],
      "execution_count": 79,
      "outputs": [
        {
          "output_type": "stream",
          "text": [
            "['age' 'education' 'month' 'day_of_week' 'campaign' 'pdays' 'previous'\n",
            " 'poutcome' 'emp.var.rate' 'cons.price.idx' 'cons.conf.idx' 'euribor3m'\n",
            " 'nr.employed' 'job_admin.' 'job_blue-collar' 'job_entrepreneur'\n",
            " 'job_housemaid' 'job_management' 'job_retired' 'job_self-employed'\n",
            " 'job_services' 'job_student' 'job_technician' 'job_unemployed'\n",
            " 'job_unknown' 'marital_divorced' 'marital_married' 'marital_single'\n",
            " 'marital_unknown' 'default_no' 'default_unknown' 'default_yes'\n",
            " 'housing_no' 'housing_unknown' 'housing_yes' 'loan_no' 'loan_unknown'\n",
            " 'loan_yes' 'contact_cellular' 'contact_telephone']\n",
            "Training data imbalance %:  88.8\n",
            "Test data imbalance %:  88.5\n"
          ],
          "name": "stdout"
        }
      ]
    },
    {
      "cell_type": "code",
      "metadata": {
        "colab": {
          "base_uri": "https://localhost:8080/"
        },
        "id": "UHrx4IZGDCRc",
        "outputId": "ac082cdf-b67c-4366-d4c6-a07d6fbe6d4e"
      },
      "source": [
        "sorted(sklearn.metrics.SCORERS.keys())"
      ],
      "execution_count": 44,
      "outputs": [
        {
          "output_type": "execute_result",
          "data": {
            "text/plain": [
              "['accuracy',\n",
              " 'adjusted_mutual_info_score',\n",
              " 'adjusted_rand_score',\n",
              " 'average_precision',\n",
              " 'balanced_accuracy',\n",
              " 'completeness_score',\n",
              " 'explained_variance',\n",
              " 'f1',\n",
              " 'f1_macro',\n",
              " 'f1_micro',\n",
              " 'f1_samples',\n",
              " 'f1_weighted',\n",
              " 'fowlkes_mallows_score',\n",
              " 'homogeneity_score',\n",
              " 'jaccard',\n",
              " 'jaccard_macro',\n",
              " 'jaccard_micro',\n",
              " 'jaccard_samples',\n",
              " 'jaccard_weighted',\n",
              " 'max_error',\n",
              " 'mutual_info_score',\n",
              " 'neg_brier_score',\n",
              " 'neg_log_loss',\n",
              " 'neg_mean_absolute_error',\n",
              " 'neg_mean_gamma_deviance',\n",
              " 'neg_mean_poisson_deviance',\n",
              " 'neg_mean_squared_error',\n",
              " 'neg_mean_squared_log_error',\n",
              " 'neg_median_absolute_error',\n",
              " 'neg_root_mean_squared_error',\n",
              " 'normalized_mutual_info_score',\n",
              " 'precision',\n",
              " 'precision_macro',\n",
              " 'precision_micro',\n",
              " 'precision_samples',\n",
              " 'precision_weighted',\n",
              " 'r2',\n",
              " 'recall',\n",
              " 'recall_macro',\n",
              " 'recall_micro',\n",
              " 'recall_samples',\n",
              " 'recall_weighted',\n",
              " 'roc_auc',\n",
              " 'roc_auc_ovo',\n",
              " 'roc_auc_ovo_weighted',\n",
              " 'roc_auc_ovr',\n",
              " 'roc_auc_ovr_weighted',\n",
              " 'v_measure_score']"
            ]
          },
          "metadata": {
            "tags": []
          },
          "execution_count": 44
        }
      ]
    },
    {
      "cell_type": "code",
      "metadata": {
        "colab": {
          "base_uri": "https://localhost:8080/"
        },
        "id": "oNJzOM9M9PiI",
        "outputId": "cdc5c7e8-fada-4eb7-a924-484ea94ff0d7"
      },
      "source": [
        "clf = RandomForestClassifier(n_estimators=250, max_depth=6)\r\n",
        "scores = cross_val_score(clf, X_train, y_train, cv=10, scoring='f1')  # cross-validation\r\n",
        "print('RF classifier score: \\n', scores.mean())"
      ],
      "execution_count": 72,
      "outputs": [
        {
          "output_type": "stream",
          "text": [
            "RF classifier score: \n",
            " 0.2916884453375036\n"
          ],
          "name": "stdout"
        }
      ]
    },
    {
      "cell_type": "code",
      "metadata": {
        "colab": {
          "base_uri": "https://localhost:8080/"
        },
        "id": "x9yQYHKlEM3o",
        "outputId": "8e9e4f6c-e7b6-4feb-a71a-4a6ccc3dac04"
      },
      "source": [
        "dummy_clf = DummyClassifier(strategy='stratified')\r\n",
        "scores = cross_val_score(dummy_clf, X_train, y_train, cv=10, scoring='f1')  # cross-validation\r\n",
        "print('Dummy classifier score: \\n', scores.mean())"
      ],
      "execution_count": 62,
      "outputs": [
        {
          "output_type": "stream",
          "text": [
            "Dummy classifier score: \n",
            " 0.1064999215158858\n"
          ],
          "name": "stdout"
        }
      ]
    },
    {
      "cell_type": "code",
      "metadata": {
        "id": "sr35bqSdd52N"
      },
      "source": [
        "parameters = {'n_estimators':[100,500,1000], 'max_depth':[4,6,8]}\r\n",
        "\r\n",
        "from sklearn.model_selection import GridSearchCV\r\n",
        "\r\n",
        "grid_RFC = GridSearchCV(estimator=clf, param_grid = parameters, cv = 10, n_jobs=-1)\r\n",
        "grid_RFC.fit(X_train, y_train)\r\n",
        "\r\n",
        "print(\" Results from Grid Search \" )\r\n",
        "print(\"\\n The best estimator across ALL searched params:\\n\",grid_RFC.best_estimator_)\r\n",
        "print(\"\\n The best score across ALL searched params:\\n\",grid_RFC.best_score_)\r\n",
        "print(\"\\n The best parameters across ALL searched params:\\n\",grid_RFC.best_params_)"
      ],
      "execution_count": null,
      "outputs": []
    },
    {
      "cell_type": "code",
      "metadata": {
        "id": "eYpKEcxwlnXq"
      },
      "source": [
        "clf = RandomForestClassifier(n_estimators=400, max_depth=8, random_state=60)\r\n",
        "#scores = cross_val_score(clf, X_train, y_train, cv=10, scoring='accuracy')  # cross-validation\r\n",
        "#print(scores.mean())"
      ],
      "execution_count": 82,
      "outputs": []
    },
    {
      "cell_type": "code",
      "metadata": {
        "colab": {
          "base_uri": "https://localhost:8080/",
          "height": 1000
        },
        "id": "oAYMbamNp6Mj",
        "outputId": "e61cba70-d103-408f-95d2-bf6af520f3a5"
      },
      "source": [
        "clf.fit(X_train, y_train)\r\n",
        "y_pred = clf.predict(X_test)\r\n",
        "\r\n",
        "from sklearn.metrics import classification_report\r\n",
        "cf=classification_report(y_test,y_pred)\r\n",
        "print(cf)\r\n",
        "\r\n",
        "importances = clf.feature_importances_\r\n",
        "\r\n",
        "std = np.std([tree.feature_importances_ for tree in clf.estimators_], axis=0)\r\n",
        "indices = np.argsort(importances)[::-1]\r\n",
        "print(\"Feature ranking:\")\r\n",
        "\r\n",
        "for f in range(X.shape[1]):\r\n",
        "  print(\"%d. %s (%f)\" % (f + 1, features[indices[f]], importances[indices[f]]))\r\n",
        "\r\n",
        "# Plot the feature importances of the forest\r\n",
        "fig = plt.figure()\r\n",
        "plt.title(\"Feature importances\")\r\n",
        "plt.bar(range(X.shape[1]), importances[indices], color=\"r\", yerr=std[indices], align=\"center\")\r\n",
        "plt.xticks(range(X.shape[1]), np.array(features)[indices], rotation='vertical')\r\n",
        "plt.xlim([-1, X.shape[1]])\r\n",
        "fig.set_size_inches(15, 8)\r\n",
        "axes = plt.gca()\r\n",
        "axes.set_ylim([0, None])\r\n"
      ],
      "execution_count": 83,
      "outputs": [
        {
          "output_type": "stream",
          "text": [
            "              precision    recall  f1-score   support\n",
            "\n",
            "           0       0.91      0.98      0.94      7288\n",
            "           1       0.65      0.22      0.33       950\n",
            "\n",
            "    accuracy                           0.90      8238\n",
            "   macro avg       0.78      0.60      0.64      8238\n",
            "weighted avg       0.88      0.90      0.87      8238\n",
            "\n",
            "Feature ranking:\n",
            "1. nr.employed (0.199460)\n",
            "2. euribor3m (0.179169)\n",
            "3. pdays (0.122746)\n",
            "4. poutcome (0.092204)\n",
            "5. emp.var.rate (0.069484)\n",
            "6. cons.conf.idx (0.067760)\n",
            "7. cons.price.idx (0.052594)\n",
            "8. month (0.037289)\n",
            "9. age (0.034636)\n",
            "10. previous (0.025059)\n",
            "11. day_of_week (0.014329)\n",
            "12. campaign (0.012613)\n",
            "13. contact_cellular (0.012172)\n",
            "14. contact_telephone (0.012024)\n",
            "15. education (0.011688)\n",
            "16. job_student (0.004407)\n",
            "17. default_no (0.004017)\n",
            "18. default_unknown (0.003889)\n",
            "19. job_retired (0.003747)\n",
            "20. marital_single (0.003707)\n",
            "21. housing_yes (0.003174)\n",
            "22. job_blue-collar (0.003127)\n",
            "23. housing_no (0.002904)\n",
            "24. marital_married (0.002803)\n",
            "25. job_admin. (0.002716)\n",
            "26. loan_yes (0.002618)\n",
            "27. loan_no (0.002593)\n",
            "28. job_technician (0.002295)\n",
            "29. marital_divorced (0.002112)\n",
            "30. job_self-employed (0.001790)\n",
            "31. job_services (0.001511)\n",
            "32. job_management (0.001479)\n",
            "33. loan_unknown (0.001370)\n",
            "34. housing_unknown (0.001367)\n",
            "35. job_housemaid (0.001334)\n",
            "36. job_unemployed (0.001247)\n",
            "37. job_unknown (0.001225)\n",
            "38. job_entrepreneur (0.001078)\n",
            "39. marital_unknown (0.000266)\n",
            "40. default_yes (0.000000)\n"
          ],
          "name": "stdout"
        },
        {
          "output_type": "execute_result",
          "data": {
            "text/plain": [
              "(0.0, 0.4362911806034018)"
            ]
          },
          "metadata": {
            "tags": []
          },
          "execution_count": 83
        },
        {
          "output_type": "display_data",
          "data": {
            "image/png": "[encoded data removed]",
            "text/plain": [
              "<Figure size 1080x576 with 1 Axes>"
            ]
          },
          "metadata": {
            "tags": [],
            "needs_background": "light"
          }
        }
      ]
    },
    {
      "cell_type": "code",
      "metadata": {
        "colab": {
          "base_uri": "https://localhost:8080/"
        },
        "id": "9suAMDA55HMc",
        "outputId": "ec086483-d807-4ef5-a781-3a24e99b2391"
      },
      "source": [
        "scores = cross_val_score(clf, X_test, y_test, cv=10, scoring='accuracy')  # cross-validation\r\n",
        "print(scores.mean())"
      ],
      "execution_count": 56,
      "outputs": [
        {
          "output_type": "stream",
          "text": [
            "0.8931776356922934\n"
          ],
          "name": "stdout"
        }
      ]
    }
  ]
}