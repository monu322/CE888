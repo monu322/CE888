{
  "nbformat": 4,
  "nbformat_minor": 0,
  "metadata": {
    "colab": {
      "name": "lab5_bandits",
      "provenance": [],
      "authorship_tag": "ABX9TyN6cn7aveMXcnP0r2s6S9Nc",
      "include_colab_link": true
    },
    "kernelspec": {
      "name": "python3",
      "display_name": "Python 3"
    },
    "language_info": {
      "name": "python"
    }
  },
  "cells": [
    {
      "cell_type": "markdown",
      "metadata": {
        "id": "view-in-github",
        "colab_type": "text"
      },
      "source": [
        "<a href=\"https://colab.research.google.com/github/monu322/CE888/blob/main/LAB5/lab5_bandits.ipynb\" target=\"_parent\"><img src=\"https://colab.research.google.com/assets/colab-badge.svg\" alt=\"Open In Colab\"/></a>"
      ]
    },
    {
      "cell_type": "code",
      "metadata": {
        "colab": {
          "base_uri": "https://localhost:8080/"
        },
        "id": "_7bsNtMiuf9N",
        "outputId": "27bb853f-5523-47f3-cfc4-fa2674f4b710"
      },
      "source": [
        "import numpy as np\n",
        "\n",
        "def action_0():\n",
        "  return np.random.choice([1,0], p=[.5,.5])\n",
        "\n",
        "def action_1():\n",
        "  return np.random.choice([1,0], p=[.6,.4])\n",
        "\n",
        "def action_2():\n",
        "  return np.random.choice([1,0], p=[.2,.8])\n",
        "\n",
        "rewards = [action_0, action_1, action_2]\n",
        "\n",
        "pulls = 100000\n",
        "\n",
        "action_value = []\n",
        "\n",
        "for reward in rewards:\n",
        "  value = [reward() for _ in range(pulls)]\n",
        "  action_value.append(value)\n",
        "\n",
        "for action, value in enumerate(action_value):\n",
        "  print('Action ', action, ' avg reward: ', np.mean(value))"
      ],
      "execution_count": null,
      "outputs": [
        {
          "output_type": "stream",
          "text": [
            "Action  0  avg reward:  0.50168\n",
            "Action  1  avg reward:  0.59989\n",
            "Action  2  avg reward:  0.19835\n"
          ],
          "name": "stdout"
        }
      ]
    },
    {
      "cell_type": "code",
      "metadata": {
        "colab": {
          "base_uri": "https://localhost:8080/"
        },
        "id": "mNWUTXnmyow3",
        "outputId": "b84a20da-bc3d-459e-84ab-db6535ab4e1c"
      },
      "source": [
        "#setting up policies\n",
        "\n",
        "p1,p2,p3 = .4,.5,.1\n",
        "\n",
        "def policy():\n",
        "  return np.random.choice([0,1,2], p=[p1,p2,p3])\n",
        "\n",
        "total_rewards = 0\n",
        "\n",
        "for pull in range(pulls):\n",
        "  action = policy()\n",
        "  total_rewards+=rewards[action]()\n",
        "\n",
        "print('Total rewards : ', total_rewards)\n",
        "print('Avg rewards : ', total_rewards/pulls)"
      ],
      "execution_count": null,
      "outputs": [
        {
          "output_type": "stream",
          "text": [
            "Total rewards :  51883\n",
            "Avg rewards :  0.51883\n"
          ],
          "name": "stdout"
        }
      ]
    },
    {
      "cell_type": "code",
      "metadata": {
        "colab": {
          "base_uri": "https://localhost:8080/"
        },
        "id": "j7b_3pxL69V6",
        "outputId": "22ced8a5-86e2-493c-f395-d634dcc2451f"
      },
      "source": [
        "#simulating regret\n",
        "\n",
        "action_values = [np.mean(value) for value in action_value]\n",
        "V_star = max(action_values)\n",
        "\n",
        "print(V_star)\n",
        "\n",
        "total_regret = 0\n",
        "\n",
        "for i in range(pulls):\n",
        "  total_regret += (V_star-rewards[policy()]())\n",
        "\n",
        "print('Regret %: ', (total_regret/pulls))"
      ],
      "execution_count": null,
      "outputs": [
        {
          "output_type": "stream",
          "text": [
            "0.59989\n",
            "Regret %:  0.07702000000017899\n"
          ],
          "name": "stdout"
        }
      ]
    }
  ]
}