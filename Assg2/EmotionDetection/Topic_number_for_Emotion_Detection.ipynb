{
  "nbformat": 4,
  "nbformat_minor": 0,
  "metadata": {
    "colab": {
      "name": "Topic number for Emotion Detection",
      "provenance": [],
      "authorship_tag": "ABX9TyPF0hiUwRQ4WOl6rHdZ9Qqu",
      "include_colab_link": true
    },
    "kernelspec": {
      "name": "python3",
      "display_name": "Python 3"
    },
    "language_info": {
      "name": "python"
    }
  },
  "cells": [
    {
      "cell_type": "markdown",
      "metadata": {
        "id": "view-in-github",
        "colab_type": "text"
      },
      "source": [
        "<a href=\"https://colab.research.google.com/github/monu322/CE888/blob/main/Assg2/EmotionDetection/Topic_number_for_Emotion_Detection.ipynb\" target=\"_parent\"><img src=\"https://colab.research.google.com/assets/colab-badge.svg\" alt=\"Open In Colab\"/></a>"
      ]
    },
    {
      "cell_type": "code",
      "metadata": {
        "colab": {
          "base_uri": "https://localhost:8080/"
        },
        "id": "EGBxZG51WVf5",
        "outputId": "e18e5ac4-8be3-4fd8-e039-4526fc35a5f7"
      },
      "source": [
        "!pip install pyLDAvis"
      ],
      "execution_count": 1,
      "outputs": [
        {
          "output_type": "stream",
          "text": [
            "Requirement already satisfied: pyLDAvis in /usr/local/lib/python3.7/dist-packages (3.3.1)\n",
            "Requirement already satisfied: sklearn in /usr/local/lib/python3.7/dist-packages (from pyLDAvis) (0.0)\n",
            "Requirement already satisfied: pandas>=1.2.0 in /usr/local/lib/python3.7/dist-packages (from pyLDAvis) (1.2.4)\n",
            "Requirement already satisfied: numpy>=1.20.0 in /usr/local/lib/python3.7/dist-packages (from pyLDAvis) (1.20.2)\n",
            "Requirement already satisfied: numexpr in /usr/local/lib/python3.7/dist-packages (from pyLDAvis) (2.7.3)\n",
            "Requirement already satisfied: scipy in /usr/local/lib/python3.7/dist-packages (from pyLDAvis) (1.4.1)\n",
            "Requirement already satisfied: scikit-learn in /usr/local/lib/python3.7/dist-packages (from pyLDAvis) (0.22.2.post1)\n",
            "Requirement already satisfied: joblib in /usr/local/lib/python3.7/dist-packages (from pyLDAvis) (1.0.1)\n",
            "Requirement already satisfied: gensim in /usr/local/lib/python3.7/dist-packages (from pyLDAvis) (3.6.0)\n",
            "Requirement already satisfied: jinja2 in /usr/local/lib/python3.7/dist-packages (from pyLDAvis) (2.11.3)\n",
            "Requirement already satisfied: funcy in /usr/local/lib/python3.7/dist-packages (from pyLDAvis) (1.15)\n",
            "Requirement already satisfied: setuptools in /usr/local/lib/python3.7/dist-packages (from pyLDAvis) (56.0.0)\n",
            "Requirement already satisfied: future in /usr/local/lib/python3.7/dist-packages (from pyLDAvis) (0.16.0)\n",
            "Requirement already satisfied: pytz>=2017.3 in /usr/local/lib/python3.7/dist-packages (from pandas>=1.2.0->pyLDAvis) (2018.9)\n",
            "Requirement already satisfied: python-dateutil>=2.7.3 in /usr/local/lib/python3.7/dist-packages (from pandas>=1.2.0->pyLDAvis) (2.8.1)\n",
            "Requirement already satisfied: six>=1.5.0 in /usr/local/lib/python3.7/dist-packages (from gensim->pyLDAvis) (1.15.0)\n",
            "Requirement already satisfied: smart-open>=1.2.1 in /usr/local/lib/python3.7/dist-packages (from gensim->pyLDAvis) (5.0.0)\n",
            "Requirement already satisfied: MarkupSafe>=0.23 in /usr/local/lib/python3.7/dist-packages (from jinja2->pyLDAvis) (1.1.1)\n"
          ],
          "name": "stdout"
        }
      ]
    },
    {
      "cell_type": "code",
      "metadata": {
        "colab": {
          "base_uri": "https://localhost:8080/"
        },
        "id": "8oJYskgUWpfE",
        "outputId": "9517b060-f56e-4820-c863-631a0a3be50c"
      },
      "source": [
        "import pickle\n",
        "import gensim\n",
        "import pyLDAvis\n",
        "import pyLDAvis.gensim_models\n",
        "import spacy\n",
        "import pandas as pd\n",
        "import nltk; nltk.download('stopwords')\n",
        "import gensim.corpora as corpora\n",
        "from gensim.utils import simple_preprocess\n",
        "from gensim.models import CoherenceModel\n",
        "import re\n",
        "import warnings\n",
        "from pprint import pprint\n",
        "\n",
        "warnings.filterwarnings(\"ignore\")"
      ],
      "execution_count": 3,
      "outputs": [
        {
          "output_type": "stream",
          "text": [
            "[nltk_data] Downloading package stopwords to /root/nltk_data...\n",
            "[nltk_data]   Package stopwords is already up-to-date!\n"
          ],
          "name": "stdout"
        }
      ]
    },
    {
      "cell_type": "code",
      "metadata": {
        "colab": {
          "base_uri": "https://localhost:8080/"
        },
        "id": "e4Ms_M6NXUe7",
        "outputId": "158340ee-1544-4eb6-946f-418d93fb9b68"
      },
      "source": [
        "#importing emotion dataset\n",
        "\n",
        "tweets_emotion=pd.read_fwf('https://raw.githubusercontent.com/cardiffnlp/tweeteval/main/datasets/emotion/train_text.txt', header=None)\n",
        "print('Training tweets', tweets_emotion.shape)\n",
        "\n",
        "tweets_emotion_labels=pd.read_fwf('https://raw.githubusercontent.com/cardiffnlp/tweeteval/main/datasets/emotion/train_labels.txt', header=None)\n",
        "print('Training labels', tweets_emotion_labels.shape)\n",
        "\n",
        "tweets_emotion_test=pd.read_fwf('https://raw.githubusercontent.com/cardiffnlp/tweeteval/main/datasets/emotion/test_text.txt', header=None)\n",
        "print('Test tweets',tweets_emotion_test.shape)\n",
        "\n",
        "tweets_emotion_test_labels=pd.read_fwf('https://raw.githubusercontent.com/cardiffnlp/tweeteval/main/datasets/emotion/test_labels.txt', header=None)\n",
        "print('Test labels',tweets_emotion_test_labels.shape)\n"
      ],
      "execution_count": 4,
      "outputs": [
        {
          "output_type": "stream",
          "text": [
            "Training tweets (3257, 1)\n",
            "Training labels (3257, 1)\n",
            "Test tweets (1421, 1)\n",
            "Test labels (1421, 1)\n"
          ],
          "name": "stdout"
        }
      ]
    },
    {
      "cell_type": "code",
      "metadata": {
        "colab": {
          "base_uri": "https://localhost:8080/",
          "height": 197
        },
        "id": "8o1bfH0PYLtV",
        "outputId": "a2e119e8-2a43-4074-fced-64156dba0617"
      },
      "source": [
        "tweets_emotion.head()"
      ],
      "execution_count": 6,
      "outputs": [
        {
          "output_type": "execute_result",
          "data": {
            "text/html": [
              "<div>\n",
              "<style scoped>\n",
              "    .dataframe tbody tr th:only-of-type {\n",
              "        vertical-align: middle;\n",
              "    }\n",
              "\n",
              "    .dataframe tbody tr th {\n",
              "        vertical-align: top;\n",
              "    }\n",
              "\n",
              "    .dataframe thead th {\n",
              "        text-align: right;\n",
              "    }\n",
              "</style>\n",
              "<table border=\"1\" class=\"dataframe\">\n",
              "  <thead>\n",
              "    <tr style=\"text-align: right;\">\n",
              "      <th></th>\n",
              "      <th>0</th>\n",
              "    </tr>\n",
              "  </thead>\n",
              "  <tbody>\n",
              "    <tr>\n",
              "      <th>0</th>\n",
              "      <td>“Worry is a down payment on a problem you may ...</td>\n",
              "    </tr>\n",
              "    <tr>\n",
              "      <th>1</th>\n",
              "      <td>My roommate: it's okay that we can't spell bec...</td>\n",
              "    </tr>\n",
              "    <tr>\n",
              "      <th>2</th>\n",
              "      <td>No but that's so cute. Atsu was probably shy a...</td>\n",
              "    </tr>\n",
              "    <tr>\n",
              "      <th>3</th>\n",
              "      <td>Rooneys fucking untouchable isn't he? Been fuc...</td>\n",
              "    </tr>\n",
              "    <tr>\n",
              "      <th>4</th>\n",
              "      <td>it's pretty depressing when u hit pan on ur fa...</td>\n",
              "    </tr>\n",
              "  </tbody>\n",
              "</table>\n",
              "</div>"
            ],
            "text/plain": [
              "                                                   0\n",
              "0  “Worry is a down payment on a problem you may ...\n",
              "1  My roommate: it's okay that we can't spell bec...\n",
              "2  No but that's so cute. Atsu was probably shy a...\n",
              "3  Rooneys fucking untouchable isn't he? Been fuc...\n",
              "4  it's pretty depressing when u hit pan on ur fa..."
            ]
          },
          "metadata": {
            "tags": []
          },
          "execution_count": 6
        }
      ]
    },
    {
      "cell_type": "code",
      "metadata": {
        "colab": {
          "base_uri": "https://localhost:8080/"
        },
        "id": "dJuswzDqYcTt",
        "outputId": "a020661d-08de-4947-9b9a-f77e014f1bfa"
      },
      "source": [
        "from nltk.corpus import stopwords\n",
        "stop_words = stopwords.words('english')\n",
        "\n",
        "def strip_newline(series):\n",
        "    return [review.replace('\\n','') for review in series]\n",
        "\n",
        "tweets_emotion[0] = strip_newline(tweets_emotion[0])\n",
        "tweets_emotion[0][20:42].values"
      ],
      "execution_count": 8,
      "outputs": [
        {
          "output_type": "execute_result",
          "data": {
            "text/plain": [
              "array(['Love is when all your happiness and all your sadness and all your feelings are dependent on another person.',\n",
              "       'It’s possible changing meds is best not done while under stress. Difficult to tell what part of despair is circumstantial, what is drugs.',\n",
              "       'im also definitely still bitter about the yellow ranger not being asian, but asian representation in hollywood is essentially a shrug anyway',\n",
              "       '@user The irony is that those protesting about this kind of stuff are the Orwellian nightmare they think they’re fighting against.',\n",
              "       \"@user @user nah way that's horrible\",\n",
              "       '@user I think just becz u have so much terror in pak nd urself being  a leader u forgot d difference btw a leader nd terrorist !',\n",
              "       'angel delight is my everything',\n",
              "       'Puzzle investing opening portland feodal population is correlative straight a snorting infuriate: XLzjYhG',\n",
              "       \"I believe I'm gonna start singing in my snap stories on the tractor. Switch it up a little bit.\",\n",
              "       \"I have a rage rage ep 2 coming out soon I'll keep you posted on it #YouTube #youtubegaming #rage\",\n",
              "       'Why have I only just started watching glee this week I am now addicted 🙄 #glee #GLEEK',\n",
              "       \"Jorge deserves it, honestly. He's weak.  #90dayfiance\",\n",
              "       \"@user 'shit' doesn't even begin to describe these fiery little demons straight from hell 🌝🌚 ;)\",\n",
              "       '@user @user ditto!! Such an amazing atmosphere! #PhilippPlein #cheerleaders #stunt #LondonEvents #cheer',\n",
              "       'Interview preparation, I hate talking about myself, one dull subject matter! #yawnoff',\n",
              "       'Manchester derby at home',\n",
              "       \"It'd probably be useful to more than women, but I'm dealing with re-reading an article about a woman being harassed on the subway. #concern\",\n",
              "       'her; i want a playful relationship\\\\nme; *kicks her off the couch*',\n",
              "       'Romero is fucking dreadful like seriously my 11 month old is better than him.',\n",
              "       '@user It’s taken for granted, while the misogyny in the air is treated as normal — and any angry response to it as pathological.',\n",
              "       \"@user oh I see. I've seen so many people mourn the loss that I was surprised to see your tweet. I suppose same old here in SA\",\n",
              "       'so gutted i dropped one of my earrings down the sink at school'],\n",
              "      dtype=object)"
            ]
          },
          "metadata": {
            "tags": []
          },
          "execution_count": 8
        }
      ]
    },
    {
      "cell_type": "code",
      "metadata": {
        "colab": {
          "base_uri": "https://localhost:8080/"
        },
        "id": "geM8OHP7Y8By",
        "outputId": "d3100316-b864-4f0c-e93d-f35508a20fe2"
      },
      "source": [
        "def sent_to_words(sentences):\n",
        "    for sentence in sentences:\n",
        "        yield(gensim.utils.simple_preprocess(str(sentence), deacc=True))\n",
        "\n",
        "tweet_words = list(sent_to_words(tweets_emotion[0]))\n",
        "\n",
        "tweet_words[21][:10]"
      ],
      "execution_count": 9,
      "outputs": [
        {
          "output_type": "execute_result",
          "data": {
            "text/plain": [
              "['it',\n",
              " 'possible',\n",
              " 'changing',\n",
              " 'meds',\n",
              " 'is',\n",
              " 'best',\n",
              " 'not',\n",
              " 'done',\n",
              " 'while',\n",
              " 'under']"
            ]
          },
          "metadata": {
            "tags": []
          },
          "execution_count": 9
        }
      ]
    },
    {
      "cell_type": "code",
      "metadata": {
        "colab": {
          "base_uri": "https://localhost:8080/"
        },
        "id": "8Na31MkSZDNV",
        "outputId": "a8b53ce1-5ce0-4150-bdc8-b99599ac03ef"
      },
      "source": [
        "def remove_stopwords(texts):\n",
        "    return [[word for word in simple_preprocess(str(doc)) if word not in stop_words] for doc in texts]\n",
        "\n",
        "tweet_words = remove_stopwords(tweet_words)\n",
        "\n",
        "def bigrams(words, bi_min=15, tri_min=10):\n",
        "    bigram = gensim.models.Phrases(words, min_count = bi_min)\n",
        "    trigram = gensim.models.Phrases(bigram[words], min_count = tri_min)\n",
        "    bigram_mod = gensim.models.phrases.Phraser(bigram)\n",
        "    trigram_mod = gensim.models.phrases.Phraser(trigram)\n",
        "    return bigram_mod, trigram_mod\n",
        "\n",
        "bigram_tr, trigram_tr = bigrams(tweet_words)\n",
        "\n",
        "print(trigram_tr[bigram_tr[tweet_words[0]]][:200])"
      ],
      "execution_count": 10,
      "outputs": [
        {
          "output_type": "stream",
          "text": [
            "['worry', 'payment', 'problem', 'may', 'never', 'joyce', 'meyer', 'motivation', 'leadership', 'worry']\n"
          ],
          "name": "stdout"
        }
      ]
    },
    {
      "cell_type": "code",
      "metadata": {
        "id": "l-m-FvmnZK8O"
      },
      "source": [
        "nlp = spacy.load('en', disable=['parser', 'ner'])\n",
        "\n",
        "warnings.filterwarnings(\"ignore\")\n",
        "\n",
        "def lemmatization(texts, allowed_postags=['NOUN','ADJ','VERB','ADV']):\n",
        "    texts_out = []\n",
        "    for sent in texts:\n",
        "        doc = nlp(\" \".join(sent)) \n",
        "        texts_out.append([token.lemma_ for token in doc if token.pos_ in allowed_postags])\n",
        "    return texts_out\n",
        "\n",
        "trigrams_tr = [trigram_tr[bigram_tr[review]] for review in tweet_words]\n",
        "\n",
        "lemma_lg = lemmatization(trigrams_tr)"
      ],
      "execution_count": 11,
      "outputs": []
    },
    {
      "cell_type": "code",
      "metadata": {
        "colab": {
          "base_uri": "https://localhost:8080/"
        },
        "id": "QuE53w87ZPaG",
        "outputId": "b8d39b45-e9fd-40aa-ba98-bbf6bea94ca2"
      },
      "source": [
        "lemma_lg[0][:20]\n",
        "\n",
        "id2word_lg = gensim.corpora.Dictionary(lemma_lg)\n",
        "id2word_lg.filter_extremes(no_below=10, no_above=0.35)\n",
        "id2word_lg.compactify()\n",
        "id2word_lg.save('train_dict_lg')\n",
        "corpus_lg = [id2word_lg.doc2bow(text) for text in lemma_lg]\n",
        "\n",
        "corpus_lg[22][:10]"
      ],
      "execution_count": 12,
      "outputs": [
        {
          "output_type": "execute_result",
          "data": {
            "text/plain": [
              "[(59, 1), (60, 1), (61, 1), (62, 1)]"
            ]
          },
          "metadata": {
            "tags": []
          },
          "execution_count": 12
        }
      ]
    },
    {
      "cell_type": "code",
      "metadata": {
        "colab": {
          "base_uri": "https://localhost:8080/"
        },
        "id": "6AE9bf_banrL",
        "outputId": "b598ba1a-3259-470b-da8b-fc8a04cd0b65"
      },
      "source": [
        "from gensim.models import HdpModel\n",
        "hdp = HdpModel(corpus_lg, id2word_lg, chunksize=10000)\n",
        "\n",
        "len(hdp.print_topics())"
      ],
      "execution_count": 13,
      "outputs": [
        {
          "output_type": "execute_result",
          "data": {
            "text/plain": [
              "20"
            ]
          },
          "metadata": {
            "tags": []
          },
          "execution_count": 13
        }
      ]
    },
    {
      "cell_type": "code",
      "metadata": {
        "colab": {
          "base_uri": "https://localhost:8080/"
        },
        "id": "HTeH160DatAE",
        "outputId": "f8943de5-89bf-42f8-88a4-4b39f232687d"
      },
      "source": [
        "hdp.print_topics(num_topics=20)"
      ],
      "execution_count": 14,
      "outputs": [
        {
          "output_type": "execute_result",
          "data": {
            "text/plain": [
              "[(0,\n",
              "  '0.013*give + 0.013*blue + 0.013*furious + 0.012*pout + 0.012*hate + 0.012*anger + 0.011*leave + 0.011*hair + 0.011*head + 0.011*turn'),\n",
              " (1,\n",
              "  '0.015*instead + 0.014*sleep + 0.014*free + 0.013*rabid + 0.013*suppose + 0.012*miss + 0.012*story + 0.011*mad + 0.011*better + 0.011*joke'),\n",
              " (2,\n",
              "  '0.014*good + 0.014*high + 0.013*unhappy + 0.012*right + 0.011*sick + 0.010*literally + 0.009*white + 0.009*time + 0.009*movie + 0.009*joke'),\n",
              " (3,\n",
              "  '0.013*eat + 0.012*always + 0.011*fear + 0.011*week + 0.010*funny + 0.010*boy + 0.010*people + 0.009*fucking + 0.009*need + 0.009*alarm'),\n",
              " (4,\n",
              "  '0.020*bitch + 0.013*man + 0.012*hilarity + 0.011*sit + 0.011*boy + 0.011*level + 0.010*act + 0.010*seriously + 0.010*actually + 0.010*true'),\n",
              " (5,\n",
              "  '0.020*terrorism + 0.014*country + 0.014*hope + 0.013*turn + 0.012*discourage + 0.011*horror + 0.011*wait + 0.010*move + 0.010*start + 0.010*lol'),\n",
              " (6,\n",
              "  '0.016*lose + 0.015*sadly + 0.013*sober + 0.013*keep + 0.011*house + 0.011*black + 0.010*hilarity + 0.010*levity + 0.009*world + 0.009*discourage'),\n",
              " (7,\n",
              "  '0.019*suppose + 0.014*stop + 0.013*kind + 0.012*death + 0.011*look + 0.011*place + 0.010*eat + 0.009*experience + 0.009*shocking + 0.008*joke'),\n",
              " (8,\n",
              "  '0.019*horror + 0.013*shocking + 0.013*almost + 0.011*seriously + 0.011*early + 0.010*terror + 0.010*close + 0.010*ever + 0.010*girl + 0.010*outrage'),\n",
              " (9,\n",
              "  '0.014*funny + 0.014*post + 0.012*grim + 0.011*real + 0.011*nervous + 0.011*minute + 0.011*afternoon + 0.011*let + 0.010*word + 0.010*pay'),\n",
              " (10,\n",
              "  '0.018*show + 0.017*else + 0.014*room + 0.011*gloomy + 0.010*story + 0.010*act + 0.009*anger + 0.009*body + 0.009*free + 0.009*snap'),\n",
              " (11,\n",
              "  '0.014*little + 0.014*whole + 0.013*sleep + 0.012*free + 0.011*call + 0.010*history + 0.010*attack + 0.010*tired + 0.010*pay + 0.010*furious'),\n",
              " (12,\n",
              "  '0.013*alarm + 0.013*still + 0.013*live + 0.013*last + 0.013*half + 0.012*boiling + 0.012*money + 0.011*high + 0.011*stuff + 0.010*act'),\n",
              " (13,\n",
              "  '0.015*joke + 0.014*mourn + 0.013*expect + 0.013*gleeful + 0.012*hilarity + 0.011*boil + 0.011*would + 0.010*gun + 0.010*ball + 0.010*ask'),\n",
              " (14,\n",
              "  '0.015*store + 0.014*get + 0.014*happy + 0.013*new + 0.012*fire + 0.011*swear + 0.011*anymore + 0.010*happen + 0.010*bring + 0.010*playful'),\n",
              " (15,\n",
              "  '0.017*speak + 0.017*tired + 0.013*wake + 0.013*long + 0.012*happy + 0.012*hope + 0.011*start + 0.010*twitter + 0.010*never + 0.010*fake'),\n",
              " (16,\n",
              "  '0.017*would + 0.015*hurt + 0.015*depressing + 0.013*think + 0.012*drop + 0.011*remember + 0.011*little + 0.011*honestly + 0.011*history + 0.010*way'),\n",
              " (17,\n",
              "  '0.012*seem + 0.012*like + 0.011*wrong + 0.010*must + 0.010*away + 0.009*great + 0.009*irritate + 0.008*sadly + 0.008*customer + 0.008*terrorism'),\n",
              " (18,\n",
              "  '0.016*rather + 0.013*fall + 0.011*insult + 0.010*much + 0.010*act + 0.009*little + 0.009*fume + 0.009*world + 0.009*give + 0.009*care'),\n",
              " (19,\n",
              "  '0.024*alone + 0.015*could + 0.012*better + 0.012*life + 0.011*dark + 0.011*care + 0.010*wrath + 0.009*feeling + 0.009*rejoice + 0.008*look')]"
            ]
          },
          "metadata": {
            "tags": []
          },
          "execution_count": 14
        }
      ]
    }
  ]
}