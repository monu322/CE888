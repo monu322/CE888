{
  "nbformat": 4,
  "nbformat_minor": 0,
  "metadata": {
    "colab": {
      "name": "OffenseDetection",
      "provenance": [],
      "authorship_tag": "ABX9TyPHjFx9sneaxcSNvlZ7DV/I",
      "include_colab_link": true
    },
    "kernelspec": {
      "name": "python3",
      "display_name": "Python 3"
    },
    "language_info": {
      "name": "python"
    }
  },
  "cells": [
    {
      "cell_type": "markdown",
      "metadata": {
        "id": "view-in-github",
        "colab_type": "text"
      },
      "source": [
        "<a href=\"https://colab.research.google.com/github/monu322/CE888/blob/main/Assg2/OffenseDetection/OffenseDetection.ipynb\" target=\"_parent\"><img src=\"https://colab.research.google.com/assets/colab-badge.svg\" alt=\"Open In Colab\"/></a>"
      ]
    },
    {
      "cell_type": "code",
      "metadata": {
        "colab": {
          "base_uri": "https://localhost:8080/"
        },
        "id": "rEOKjeN2ucHv",
        "outputId": "5b0c3993-28a8-4a23-f4ce-bcd19cbf6814"
      },
      "source": [
        "!pip install pyLDAvis"
      ],
      "execution_count": 1,
      "outputs": [
        {
          "output_type": "stream",
          "text": [
            "Requirement already satisfied: pyLDAvis in /usr/local/lib/python3.7/dist-packages (3.3.1)\n",
            "Requirement already satisfied: future in /usr/local/lib/python3.7/dist-packages (from pyLDAvis) (0.16.0)\n",
            "Requirement already satisfied: sklearn in /usr/local/lib/python3.7/dist-packages (from pyLDAvis) (0.0)\n",
            "Requirement already satisfied: numexpr in /usr/local/lib/python3.7/dist-packages (from pyLDAvis) (2.7.3)\n",
            "Requirement already satisfied: scikit-learn in /usr/local/lib/python3.7/dist-packages (from pyLDAvis) (0.22.2.post1)\n",
            "Requirement already satisfied: joblib in /usr/local/lib/python3.7/dist-packages (from pyLDAvis) (1.0.1)\n",
            "Requirement already satisfied: numpy>=1.20.0 in /usr/local/lib/python3.7/dist-packages (from pyLDAvis) (1.20.2)\n",
            "Requirement already satisfied: jinja2 in /usr/local/lib/python3.7/dist-packages (from pyLDAvis) (2.11.3)\n",
            "Requirement already satisfied: pandas>=1.2.0 in /usr/local/lib/python3.7/dist-packages (from pyLDAvis) (1.2.4)\n",
            "Requirement already satisfied: scipy in /usr/local/lib/python3.7/dist-packages (from pyLDAvis) (1.4.1)\n",
            "Requirement already satisfied: setuptools in /usr/local/lib/python3.7/dist-packages (from pyLDAvis) (56.0.0)\n",
            "Requirement already satisfied: funcy in /usr/local/lib/python3.7/dist-packages (from pyLDAvis) (1.15)\n",
            "Requirement already satisfied: gensim in /usr/local/lib/python3.7/dist-packages (from pyLDAvis) (3.6.0)\n",
            "Requirement already satisfied: MarkupSafe>=0.23 in /usr/local/lib/python3.7/dist-packages (from jinja2->pyLDAvis) (1.1.1)\n",
            "Requirement already satisfied: pytz>=2017.3 in /usr/local/lib/python3.7/dist-packages (from pandas>=1.2.0->pyLDAvis) (2018.9)\n",
            "Requirement already satisfied: python-dateutil>=2.7.3 in /usr/local/lib/python3.7/dist-packages (from pandas>=1.2.0->pyLDAvis) (2.8.1)\n",
            "Requirement already satisfied: smart-open>=1.2.1 in /usr/local/lib/python3.7/dist-packages (from gensim->pyLDAvis) (5.0.0)\n",
            "Requirement already satisfied: six>=1.5.0 in /usr/local/lib/python3.7/dist-packages (from gensim->pyLDAvis) (1.15.0)\n"
          ],
          "name": "stdout"
        }
      ]
    },
    {
      "cell_type": "code",
      "metadata": {
        "colab": {
          "base_uri": "https://localhost:8080/"
        },
        "id": "tu5RuMLbu_RB",
        "outputId": "0792ea52-566b-4ec1-e17e-e8658fd9d1bb"
      },
      "source": [
        "import pickle\n",
        "import gensim\n",
        "import pyLDAvis\n",
        "import pyLDAvis.gensim_models\n",
        "import spacy\n",
        "import pandas as pd\n",
        "import nltk; nltk.download('stopwords')\n",
        "import gensim.corpora as corpora\n",
        "from gensim.utils import simple_preprocess\n",
        "from gensim.models import CoherenceModel\n",
        "import re\n",
        "import warnings\n",
        "from pprint import pprint\n",
        "from sklearn.model_selection import train_test_split\n",
        "import numpy as np\n",
        "from sklearn.metrics import accuracy_score\n",
        "from sklearn.linear_model import LogisticRegression\n",
        "from sklearn.naive_bayes import GaussianNB, MultinomialNB\n",
        "from sklearn.preprocessing import StandardScaler, MinMaxScaler\n",
        "import seaborn as sns\n",
        "%config InlineBackend.figure_formats = ['retina']\n",
        "from sklearn.metrics import f1_score\n",
        "from sklearn import linear_model\n",
        "from sklearn import metrics\n",
        "from sklearn.model_selection import KFold\n",
        "from sklearn.metrics import fbeta_score\n",
        "import matplotlib.pyplot as plt\n",
        "\n",
        "warnings.filterwarnings(\"ignore\")"
      ],
      "execution_count": 3,
      "outputs": [
        {
          "output_type": "stream",
          "text": [
            "[nltk_data] Downloading package stopwords to /root/nltk_data...\n",
            "[nltk_data]   Package stopwords is already up-to-date!\n"
          ],
          "name": "stdout"
        }
      ]
    },
    {
      "cell_type": "code",
      "metadata": {
        "colab": {
          "base_uri": "https://localhost:8080/"
        },
        "id": "KGxWLdtcvIAN",
        "outputId": "70dac30f-adb1-4fd0-961e-8c1a83ab4c28"
      },
      "source": [
        "#importing offesive dataset\n",
        "\n",
        "tweets_offensive=pd.read_fwf('https://raw.githubusercontent.com/cardiffnlp/tweeteval/main/datasets/offensive/train_text.txt', header=None)\n",
        "print('Training tweets', tweets_offensive.shape)\n",
        "\n",
        "tweets_offensive_labels=pd.read_fwf('https://raw.githubusercontent.com/cardiffnlp/tweeteval/main/datasets/offensive/train_labels.txt', header=None)\n",
        "print('Training labels', tweets_offensive_labels.shape)\n",
        "\n",
        "tweets_offensive_test=pd.read_fwf('https://raw.githubusercontent.com/cardiffnlp/tweeteval/main/datasets/offensive/test_text.txt', header=None)\n",
        "print('Test tweets',tweets_offensive_test.shape)\n",
        "\n",
        "tweets_offensive_test_labels=pd.read_fwf('https://raw.githubusercontent.com/cardiffnlp/tweeteval/main/datasets/offensive/test_labels.txt', header=None)\n",
        "print('Test labels',tweets_offensive_test_labels.shape)"
      ],
      "execution_count": 8,
      "outputs": [
        {
          "output_type": "stream",
          "text": [
            "Training tweets (11916, 51)\n",
            "Training labels (11916, 1)\n",
            "Test tweets (860, 3)\n",
            "Test labels (860, 1)\n"
          ],
          "name": "stdout"
        }
      ]
    },
    {
      "cell_type": "code",
      "metadata": {
        "colab": {
          "base_uri": "https://localhost:8080/",
          "height": 197
        },
        "id": "PH85agvSvPh_",
        "outputId": "2c3a466e-4574-4d52-bde7-3006a0795904"
      },
      "source": [
        "tweets_offensive = tweets_offensive[[0]]\n",
        "tweets_offensive_test = tweets_offensive_test[[0]]\n",
        "tweets_offensive.head()"
      ],
      "execution_count": 9,
      "outputs": [
        {
          "output_type": "execute_result",
          "data": {
            "text/html": [
              "<div>\n",
              "<style scoped>\n",
              "    .dataframe tbody tr th:only-of-type {\n",
              "        vertical-align: middle;\n",
              "    }\n",
              "\n",
              "    .dataframe tbody tr th {\n",
              "        vertical-align: top;\n",
              "    }\n",
              "\n",
              "    .dataframe thead th {\n",
              "        text-align: right;\n",
              "    }\n",
              "</style>\n",
              "<table border=\"1\" class=\"dataframe\">\n",
              "  <thead>\n",
              "    <tr style=\"text-align: right;\">\n",
              "      <th></th>\n",
              "      <th>0</th>\n",
              "    </tr>\n",
              "  </thead>\n",
              "  <tbody>\n",
              "    <tr>\n",
              "      <th>0</th>\n",
              "      <td>@user Bono... who cares. Soon people will unde...</td>\n",
              "    </tr>\n",
              "    <tr>\n",
              "      <th>1</th>\n",
              "      <td>@user Eight years the republicans denied obama...</td>\n",
              "    </tr>\n",
              "    <tr>\n",
              "      <th>2</th>\n",
              "      <td>@user Get him some line help. He is gonna be j...</td>\n",
              "    </tr>\n",
              "    <tr>\n",
              "      <th>3</th>\n",
              "      <td>@user @user She is great. Hi Fiona!</td>\n",
              "    </tr>\n",
              "    <tr>\n",
              "      <th>4</th>\n",
              "      <td>@user She has become a parody unto herself? Sh...</td>\n",
              "    </tr>\n",
              "  </tbody>\n",
              "</table>\n",
              "</div>"
            ],
            "text/plain": [
              "                                                   0\n",
              "0  @user Bono... who cares. Soon people will unde...\n",
              "1  @user Eight years the republicans denied obama...\n",
              "2  @user Get him some line help. He is gonna be j...\n",
              "3                @user @user She is great. Hi Fiona!\n",
              "4  @user She has become a parody unto herself? Sh..."
            ]
          },
          "metadata": {
            "tags": []
          },
          "execution_count": 9
        }
      ]
    },
    {
      "cell_type": "code",
      "metadata": {
        "id": "R78VVSy2vtJu"
      },
      "source": [
        "tweets_offensive.columns = ['text']\n",
        "tweets_offensive_test.columns = ['text']"
      ],
      "execution_count": 10,
      "outputs": []
    },
    {
      "cell_type": "code",
      "metadata": {
        "colab": {
          "base_uri": "https://localhost:8080/",
          "height": 516
        },
        "id": "CNeZgW3gwAX6",
        "outputId": "464811dd-dac0-4b92-f8fe-31c29f348d82"
      },
      "source": [
        "plt.figure(figsize=(10,8))\n",
        "plt.rcParams.update({'font.size': 20})\n",
        "sns.countplot(0, data = tweets_offensive_labels)\n",
        "plt.ylabel('Count')\n",
        "plt.xlabel('Offensive');"
      ],
      "execution_count": 12,
      "outputs": [
        {
          "output_type": "display_data",
          "data": {
            "image/png": "[encoded data removed]",
            "text/plain": [
              "<Figure size 720x576 with 1 Axes>"
            ]
          },
          "metadata": {
            "tags": [],
            "image/png": {
              "width": 654,
              "height": 500
            },
            "needs_background": "light"
          }
        }
      ]
    },
    {
      "cell_type": "code",
      "metadata": {
        "colab": {
          "base_uri": "https://localhost:8080/",
          "height": 516
        },
        "id": "1ml1zkE7wI65",
        "outputId": "97d2a348-1d37-49a9-f6af-3a583e886784"
      },
      "source": [
        "plt.figure(figsize=(10,8))\n",
        "plt.rcParams.update({'font.size': 20})\n",
        "sns.countplot(0, data = tweets_offensive_test_labels)\n",
        "plt.ylabel('Count')\n",
        "plt.xlabel('Offensive');"
      ],
      "execution_count": 13,
      "outputs": [
        {
          "output_type": "display_data",
          "data": {
            "image/png": "[encoded data removed]",
            "text/plain": [
              "<Figure size 720x576 with 1 Axes>"
            ]
          },
          "metadata": {
            "tags": [],
            "image/png": {
              "width": 641,
              "height": 500
            },
            "needs_background": "light"
          }
        }
      ]
    },
    {
      "cell_type": "code",
      "metadata": {
        "id": "7yIaVI5hwW4L"
      },
      "source": [
        "from nltk.corpus import stopwords\n",
        "stop_words = stopwords.words('english')\n",
        "\n",
        "\n",
        "nlp = spacy.load('en', disable=['parser', 'ner'])\n",
        "\n",
        "def strip_newline(series):\n",
        "    return [review.replace('\\n','') for review in series]\n",
        "\n",
        "def sent_to_words(sentences):\n",
        "    for sentence in sentences:\n",
        "        yield(gensim.utils.simple_preprocess(str(sentence), deacc=True))\n",
        "        \n",
        "def remove_stopwords(texts):\n",
        "    return [[word for word in simple_preprocess(str(doc)) if word not in stop_words] for doc in texts]\n",
        "\n",
        "def bigrams(words, bi_min=15, tri_min=10):\n",
        "    bigram = gensim.models.Phrases(words, min_count = bi_min)\n",
        "    bigram_mod = gensim.models.phrases.Phraser(bigram)\n",
        "    return bigram_mod\n",
        "\n",
        "def get_corpus(df):\n",
        "    \"\"\"\n",
        "    Get Bigram Model, Corpus, id2word mapping\n",
        "    \"\"\"\n",
        "    \n",
        "    df['text'] = strip_newline(df.text)\n",
        "    words = list(sent_to_words(df.text))\n",
        "    words = remove_stopwords(words)\n",
        "    bigram = bigrams(words)\n",
        "    bigram = [bigram[review] for review in words]\n",
        "    id2word = gensim.corpora.Dictionary(bigram)\n",
        "    id2word.filter_extremes(no_below=10, no_above=0.35)\n",
        "    id2word.compactify()\n",
        "    corpus = [id2word.doc2bow(text) for text in bigram]\n",
        "    return corpus, id2word, bigram"
      ],
      "execution_count": 14,
      "outputs": []
    },
    {
      "cell_type": "code",
      "metadata": {
        "id": "qoObL0rHwbpE"
      },
      "source": [
        "train_corpus4, train_id2word4, bigram_train4 = get_corpus(tweets_offensive)"
      ],
      "execution_count": 16,
      "outputs": []
    },
    {
      "cell_type": "code",
      "metadata": {
        "id": "KpW14uzCwgc9"
      },
      "source": [
        "import logging\n",
        "logging.basicConfig(filename='lda_model.log', format='%(asctime)s : %(levelname)s : %(message)s', level=logging.INFO)\n",
        "\n",
        "with warnings.catch_warnings():\n",
        "    warnings.simplefilter('ignore')\n",
        "    lda_train4 = gensim.models.ldamulticore.LdaMulticore(\n",
        "                           corpus=train_corpus4,\n",
        "                           num_topics=20,\n",
        "                           id2word=train_id2word4,\n",
        "                           chunksize=100,\n",
        "                           workers=7, # Num. Processing Cores - 1\n",
        "                           passes=50,\n",
        "                           eval_every = 1,\n",
        "                           per_word_topics=True)"
      ],
      "execution_count": 17,
      "outputs": []
    },
    {
      "cell_type": "code",
      "metadata": {
        "colab": {
          "base_uri": "https://localhost:8080/"
        },
        "id": "mr5DwxKrxCb-",
        "outputId": "630c8d1d-fa62-4296-ec63-1f3eb99fe4e8"
      },
      "source": [
        "coherence_model_lda = CoherenceModel(model=lda_train4, texts=bigram_train4, dictionary=train_id2word4, coherence='c_v')\n",
        "coherence_lda = coherence_model_lda.get_coherence()\n",
        "coherence_lda"
      ],
      "execution_count": 18,
      "outputs": [
        {
          "output_type": "execute_result",
          "data": {
            "text/plain": [
              "0.32322828580087193"
            ]
          },
          "metadata": {
            "tags": []
          },
          "execution_count": 18
        }
      ]
    },
    {
      "cell_type": "code",
      "metadata": {
        "colab": {
          "base_uri": "https://localhost:8080/"
        },
        "id": "b_BhT14txHhZ",
        "outputId": "67351e79-9c13-412e-e70c-fa92e27f3429"
      },
      "source": [
        "lda_train4.print_topics(40,num_words=15)[:40]"
      ],
      "execution_count": 19,
      "outputs": [
        {
          "output_type": "execute_result",
          "data": {
            "text/plain": [
              "[(0,\n",
              "  '0.086*\"think\" + 0.041*\"see\" + 0.036*\"ass\" + 0.027*\"people\" + 0.026*\"bad\" + 0.026*\"kavanaugh\" + 0.023*\"crazy\" + 0.023*\"look\" + 0.022*\"going\" + 0.021*\"liberals\" + 0.021*\"like\" + 0.020*\"life\" + 0.018*\"lies\" + 0.016*\"coming\" + 0.014*\"next\"'),\n",
              " (1,\n",
              "  '0.049*\"much\" + 0.038*\"always\" + 0.034*\"better\" + 0.030*\"real\" + 0.030*\"thank\" + 0.027*\"us\" + 0.024*\"anything\" + 0.023*\"hope\" + 0.020*\"get\" + 0.020*\"like\" + 0.019*\"tell\" + 0.019*\"happy\" + 0.019*\"liberals\" + 0.017*\"conservatives\" + 0.016*\"amazing\"'),\n",
              " (2,\n",
              "  '0.048*\"said\" + 0.035*\"even\" + 0.029*\"white\" + 0.029*\"liberals\" + 0.024*\"people\" + 0.023*\"trump\" + 0.022*\"think\" + 0.022*\"remember\" + 0.020*\"something\" + 0.018*\"exactly\" + 0.018*\"called\" + 0.017*\"watch\" + 0.016*\"sure\" + 0.015*\"men\" + 0.014*\"least\"'),\n",
              " (3,\n",
              "  '0.081*\"love\" + 0.046*\"great\" + 0.035*\"give\" + 0.032*\"big\" + 0.030*\"job\" + 0.025*\"fact\" + 0.020*\"call\" + 0.020*\"also\" + 0.019*\"lie\" + 0.018*\"read\" + 0.017*\"would\" + 0.017*\"ask\" + 0.014*\"full\" + 0.014*\"president_trump\" + 0.014*\"see\"'),\n",
              " (4,\n",
              "  '0.072*\"good\" + 0.072*\"right\" + 0.055*\"know\" + 0.043*\"man\" + 0.038*\"thing\" + 0.032*\"well\" + 0.030*\"oh\" + 0.030*\"god\" + 0.028*\"lying\" + 0.023*\"true\" + 0.021*\"needs\" + 0.017*\"liberals\" + 0.014*\"sex\" + 0.014*\"awesome\" + 0.013*\"one\"'),\n",
              " (5,\n",
              "  '0.263*\"antifa\" + 0.034*\"like\" + 0.025*\"violence\" + 0.020*\"ok\" + 0.019*\"gets\" + 0.019*\"actually\" + 0.019*\"nazis\" + 0.016*\"show\" + 0.015*\"violent\" + 0.014*\"group\" + 0.014*\"wait\" + 0.013*\"soros\" + 0.012*\"democrats\" + 0.011*\"illegal\" + 0.010*\"comes\"'),\n",
              " (6,\n",
              "  '0.075*\"shit\" + 0.036*\"saying\" + 0.029*\"mean\" + 0.028*\"person\" + 0.028*\"black\" + 0.022*\"im\" + 0.020*\"put\" + 0.020*\"one\" + 0.018*\"stand\" + 0.018*\"keep\" + 0.015*\"lmao\" + 0.015*\"racist\" + 0.014*\"like\" + 0.013*\"liberals\" + 0.013*\"rules\"'),\n",
              " (7,\n",
              "  '0.056*\"conservatives\" + 0.053*\"liberals\" + 0.030*\"people\" + 0.024*\"nothing\" + 0.024*\"liberal\" + 0.020*\"done\" + 0.018*\"stop\" + 0.017*\"like\" + 0.016*\"american\" + 0.016*\"school\" + 0.015*\"world\" + 0.014*\"looking\" + 0.012*\"government\" + 0.012*\"would\" + 0.011*\"gonna\"'),\n",
              " (8,\n",
              "  '0.049*\"back\" + 0.038*\"time\" + 0.027*\"please\" + 0.026*\"follow\" + 0.025*\"take\" + 0.024*\"making\" + 0.024*\"amp\" + 0.022*\"game\" + 0.022*\"either\" + 0.021*\"name\" + 0.019*\"high\" + 0.018*\"good\" + 0.017*\"get\" + 0.016*\"thanks\" + 0.015*\"many\"'),\n",
              " (9,\n",
              "  '0.040*\"one\" + 0.023*\"long\" + 0.023*\"days\" + 0.022*\"thought\" + 0.018*\"would\" + 0.018*\"word\" + 0.017*\"cause\" + 0.017*\"since\" + 0.017*\"tweet\" + 0.016*\"head\" + 0.015*\"like\" + 0.015*\"old\" + 0.014*\"story\" + 0.013*\"beautiful\" + 0.013*\"everyone\"'),\n",
              " (10,\n",
              "  '0.068*\"never\" + 0.043*\"would\" + 0.036*\"president\" + 0.032*\"ever\" + 0.031*\"women\" + 0.029*\"woman\" + 0.028*\"years\" + 0.024*\"believe\" + 0.021*\"liberals\" + 0.018*\"best\" + 0.018*\"conservatives\" + 0.016*\"last\" + 0.015*\"fake\" + 0.015*\"power\" + 0.015*\"kind\"'),\n",
              " (11,\n",
              "  '0.067*\"lol\" + 0.052*\"must\" + 0.050*\"funny\" + 0.037*\"anti\" + 0.031*\"rights\" + 0.023*\"though\" + 0.018*\"war\" + 0.018*\"one\" + 0.018*\"thinks\" + 0.017*\"brother\" + 0.017*\"canada\" + 0.014*\"nazi\" + 0.014*\"human\" + 0.014*\"stupid\" + 0.014*\"lose\"'),\n",
              " (12,\n",
              "  '0.041*\"vote\" + 0.036*\"party\" + 0.036*\"democrats\" + 0.033*\"liberals\" + 0.030*\"yes\" + 0.030*\"conservatives\" + 0.017*\"amp\" + 0.016*\"republicans\" + 0.015*\"go\" + 0.014*\"democrat\" + 0.014*\"left\" + 0.013*\"need\" + 0.012*\"help\" + 0.012*\"election\" + 0.012*\"dude\"'),\n",
              " (13,\n",
              "  '0.194*\"maga\" + 0.094*\"trump\" + 0.036*\"got\" + 0.027*\"guy\" + 0.021*\"says\" + 0.019*\"qanon\" + 0.018*\"new\" + 0.017*\"amp\" + 0.013*\"makes\" + 0.012*\"knows\" + 0.012*\"looks_like\" + 0.011*\"attack\" + 0.011*\"wwg_wga\" + 0.011*\"book\" + 0.010*\"conservatives\"'),\n",
              " (14,\n",
              "  '0.044*\"hate\" + 0.041*\"america\" + 0.030*\"people\" + 0.028*\"used\" + 0.023*\"end\" + 0.021*\"someone\" + 0.019*\"brexit\" + 0.019*\"liberals\" + 0.016*\"shot\" + 0.015*\"maga_kag\" + 0.015*\"young\" + 0.015*\"walkaway\" + 0.014*\"kill\" + 0.014*\"california\" + 0.013*\"make\"'),\n",
              " (15,\n",
              "  '0.057*\"another\" + 0.041*\"guns\" + 0.038*\"maybe\" + 0.038*\"fucking\" + 0.026*\"way\" + 0.025*\"free\" + 0.024*\"anyone\" + 0.023*\"work\" + 0.019*\"hard\" + 0.019*\"wrong\" + 0.019*\"obama\" + 0.017*\"absolutely\" + 0.017*\"mind\" + 0.017*\"wow\" + 0.017*\"sorry\"'),\n",
              " (16,\n",
              "  '0.060*\"really\" + 0.051*\"need\" + 0.041*\"get\" + 0.040*\"like\" + 0.039*\"let\" + 0.029*\"know\" + 0.025*\"getting\" + 0.022*\"twitter\" + 0.021*\"lot\" + 0.020*\"people\" + 0.017*\"news\" + 0.016*\"girl\" + 0.016*\"play\" + 0.013*\"win\" + 0.013*\"home\"'),\n",
              " (17,\n",
              "  '0.035*\"away\" + 0.033*\"part\" + 0.033*\"support\" + 0.031*\"gun_control\" + 0.030*\"things\" + 0.024*\"nra\" + 0.023*\"made\" + 0.016*\"us\" + 0.016*\"cute\" + 0.015*\"via\" + 0.014*\"dead\" + 0.014*\"usa\" + 0.013*\"congress\" + 0.013*\"bit\" + 0.012*\"texas\"'),\n",
              " (18,\n",
              "  '0.162*\"gun_control\" + 0.056*\"amp\" + 0.034*\"gun\" + 0.033*\"laws\" + 0.022*\"dems\" + 0.020*\"people\" + 0.020*\"bitch\" + 0.019*\"control\" + 0.016*\"want\" + 0.014*\"crime\" + 0.014*\"police\" + 0.013*\"wants\" + 0.013*\"chicago\" + 0.011*\"americans\" + 0.011*\"wonder\"'),\n",
              " (19,\n",
              "  '0.052*\"money\" + 0.045*\"trying\" + 0.043*\"fuck\" + 0.041*\"still\" + 0.036*\"yeah\" + 0.027*\"conservatives\" + 0.021*\"working\" + 0.021*\"make\" + 0.019*\"understand\" + 0.018*\"side\" + 0.017*\"judge\" + 0.016*\"everything\" + 0.016*\"care\" + 0.013*\"disgrace\" + 0.012*\"gt\"')]"
            ]
          },
          "metadata": {
            "tags": []
          },
          "execution_count": 19
        }
      ]
    },
    {
      "cell_type": "code",
      "metadata": {
        "colab": {
          "base_uri": "https://localhost:8080/"
        },
        "id": "S3nL-NDkxKT9",
        "outputId": "33c32fa4-0598-420f-9dd7-9fd69234a6c1"
      },
      "source": [
        "train_vecs = []\n",
        "\n",
        "for i in range(len(tweets_offensive)):\n",
        "    top_topics = lda_train4.get_document_topics(train_corpus4[i], minimum_probability=0.0)\n",
        "    topic_vec = [top_topics[i][1] for i in range(20)]\n",
        "    train_vecs.append(topic_vec)\n",
        "\n",
        "print(\"Document topic matrix of 1st review: \", train_vecs[0])"
      ],
      "execution_count": 21,
      "outputs": [
        {
          "output_type": "stream",
          "text": [
            "Document topic matrix of 1st review:  [0.09018462, 0.4052773, 0.003125, 0.003125, 0.003125, 0.003125, 0.003125, 0.17234012, 0.065625, 0.003125, 0.003125, 0.003125, 0.003125, 0.003125, 0.003125, 0.003125, 0.003125, 0.15719792, 0.003125, 0.065625]\n"
          ],
          "name": "stdout"
        }
      ]
    },
    {
      "cell_type": "code",
      "metadata": {
        "colab": {
          "base_uri": "https://localhost:8080/"
        },
        "id": "dIAegHbpxRAj",
        "outputId": "56a6d5e5-73b5-4d08-ca6e-7d1c16f6de69"
      },
      "source": [
        "import warnings\n",
        "warnings.filterwarnings('ignore')\n",
        "\n",
        "X = np.array(train_vecs)\n",
        "y = np.array(tweets_offensive_labels)\n",
        "\n",
        "kf = KFold(5, shuffle=True, random_state=42)\n",
        "cv_lr_f1, cv_lrsgd_f1, cv_svcsgd_f1,  = [], [], []\n",
        "\n",
        "for train_ind, val_ind in kf.split(X, y):\n",
        "    # Assign CV IDX\n",
        "    X_train, y_train = X[train_ind], y[train_ind]\n",
        "    X_val, y_val = X[val_ind], y[val_ind]\n",
        "    \n",
        "    # Scale Data\n",
        "    scaler = StandardScaler()\n",
        "    X_train_scale = scaler.fit_transform(X_train)\n",
        "    X_val_scale = scaler.transform(X_val)\n",
        "\n",
        "    # Logisitic Regression\n",
        "    lr = LogisticRegression(\n",
        "        class_weight= 'balanced',\n",
        "        solver='newton-cg',\n",
        "        fit_intercept=True\n",
        "    ).fit(X_train_scale, y_train)\n",
        "\n",
        "    y_pred = lr.predict(X_val_scale)\n",
        "    cv_lr_f1.append(f1_score(y_val, y_pred, average='weighted'))\n",
        "    \n",
        "    #Mini-Batch SGD\n",
        "    sgd = linear_model.SGDClassifier(\n",
        "        max_iter=1000,\n",
        "        tol=1e-3,\n",
        "        loss='log',\n",
        "        class_weight='balanced'\n",
        "    ).fit(X_train_scale, y_train)\n",
        "    \n",
        "    y_pred = sgd.predict(X_val_scale)\n",
        "    cv_lrsgd_f1.append(f1_score(y_val, y_pred, average='weighted'))\n",
        "    \n",
        "    # SGD Modified Huber\n",
        "    sgd_huber = linear_model.SGDClassifier(\n",
        "        max_iter=1000,\n",
        "        tol=1e-3,\n",
        "        alpha=20,\n",
        "        loss='modified_huber',\n",
        "        class_weight='balanced'\n",
        "    ).fit(X_train_scale, y_train)\n",
        "    \n",
        "    y_pred = sgd_huber.predict(X_val_scale)\n",
        "    cv_svcsgd_f1.append(f1_score(y_val, y_pred, average='weighted'))\n",
        "\n",
        "print(f'Logistic Regression Val f1: {np.mean(cv_lr_f1):.3f} +- {np.std(cv_lr_f1):.3f}')\n",
        "print(f'Logisitic Regression SGD Val f1: {np.mean(cv_lrsgd_f1):.3f} +- {np.std(cv_lrsgd_f1):.3f}')\n",
        "print(f'SGD Huber Val f1: {np.mean(cv_svcsgd_f1):.3f} +- {np.std(cv_svcsgd_f1):.3f}')\n"
      ],
      "execution_count": 23,
      "outputs": [
        {
          "output_type": "stream",
          "text": [
            "Logistic Regression Val f1: 0.577 +- 0.019\n",
            "Logisitic Regression SGD Val f1: 0.513 +- 0.042\n",
            "SGD Huber Val f1: 0.537 +- 0.012\n"
          ],
          "name": "stdout"
        }
      ]
    },
    {
      "cell_type": "code",
      "metadata": {
        "id": "puAHPc71xmkJ"
      },
      "source": [
        "test_corpus4, test_id2word4, bigram_test4 = get_corpus(tweets_offensive_test)"
      ],
      "execution_count": 25,
      "outputs": []
    },
    {
      "cell_type": "code",
      "metadata": {
        "colab": {
          "base_uri": "https://localhost:8080/"
        },
        "id": "2ezS0V5vxtJk",
        "outputId": "72a5e8f1-70f3-4fc6-e0e2-343012cdc08c"
      },
      "source": [
        "test_vecs = []\n",
        "\n",
        "for i in range(len(tweets_offensive_test)):\n",
        "    top_topics = lda_train4.get_document_topics(train_corpus4[i], minimum_probability=0.0)\n",
        "    topic_vec = [top_topics[i][1] for i in range(20)]\n",
        "    test_vecs.append(topic_vec)\n",
        "\n",
        "print(\"Document topic matrix of 1st review: \", test_vecs[0])"
      ],
      "execution_count": 26,
      "outputs": [
        {
          "output_type": "stream",
          "text": [
            "Document topic matrix of 1st review:  [0.09019921, 0.405279, 0.003125, 0.003125, 0.003125, 0.003125, 0.003125, 0.17233092, 0.065625, 0.003125, 0.003125, 0.003125, 0.003125, 0.003125, 0.003125, 0.003125, 0.003125, 0.15719086, 0.003125, 0.065625]\n"
          ],
          "name": "stdout"
        }
      ]
    },
    {
      "cell_type": "code",
      "metadata": {
        "id": "l5yDqWbLyJCD"
      },
      "source": [
        "from sklearn import svm\n",
        "\n",
        "X_test = np.array(test_vecs)\n",
        "y_test = np.array(tweets_offensive_test_labels)\n",
        "\n",
        "#Create a svm Classifier\n",
        "clf = svm.SVC(kernel='linear') # Linear Kernel\n",
        "\n",
        "#Train the model using the training sets\n",
        "clf.fit(X, y)\n",
        "\n",
        "#Predict the response for test dataset\n",
        "y_pred = clf.predict(X_test)"
      ],
      "execution_count": 27,
      "outputs": []
    },
    {
      "cell_type": "code",
      "metadata": {
        "colab": {
          "base_uri": "https://localhost:8080/"
        },
        "id": "mKUSZTNWyOeJ",
        "outputId": "a614439d-41bd-424a-ab58-a5167dd85b9c"
      },
      "source": [
        "from sklearn import metrics\n",
        "\n",
        "# Model Accuracy: how often is the classifier correct?\n",
        "print(\"Accuracy:\",metrics.f1_score(y_test, y_pred, average='weighted'))"
      ],
      "execution_count": 28,
      "outputs": [
        {
          "output_type": "stream",
          "text": [
            "Accuracy: 0.6040226272784412\n"
          ],
          "name": "stdout"
        }
      ]
    }
  ]
}