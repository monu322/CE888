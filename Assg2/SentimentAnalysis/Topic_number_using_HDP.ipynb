{
  "nbformat": 4,
  "nbformat_minor": 0,
  "metadata": {
    "colab": {
      "name": "Topic number using HDP",
      "provenance": [],
      "authorship_tag": "ABX9TyNllLNmPiC49peH4RvHKXpP",
      "include_colab_link": true
    },
    "kernelspec": {
      "name": "python3",
      "display_name": "Python 3"
    },
    "language_info": {
      "name": "python"
    }
  },
  "cells": [
    {
      "cell_type": "markdown",
      "metadata": {
        "id": "view-in-github",
        "colab_type": "text"
      },
      "source": [
        "<a href=\"https://colab.research.google.com/github/monu322/CE888/blob/main/Assg2/SentimentAnalysis/Topic_number_using_HDP.ipynb\" target=\"_parent\"><img src=\"https://colab.research.google.com/assets/colab-badge.svg\" alt=\"Open In Colab\"/></a>"
      ]
    },
    {
      "cell_type": "code",
      "metadata": {
        "colab": {
          "base_uri": "https://localhost:8080/"
        },
        "id": "XTkatoF5JM1Z",
        "outputId": "0dae8cb2-0598-4b33-f578-dda250f102be"
      },
      "source": [
        "!pip install pyLDAvis"
      ],
      "execution_count": 1,
      "outputs": [
        {
          "output_type": "stream",
          "text": [
            "Requirement already satisfied: pyLDAvis in /usr/local/lib/python3.7/dist-packages (3.3.1)\n",
            "Requirement already satisfied: setuptools in /usr/local/lib/python3.7/dist-packages (from pyLDAvis) (56.0.0)\n",
            "Requirement already satisfied: numpy>=1.20.0 in /usr/local/lib/python3.7/dist-packages (from pyLDAvis) (1.20.2)\n",
            "Requirement already satisfied: joblib in /usr/local/lib/python3.7/dist-packages (from pyLDAvis) (1.0.1)\n",
            "Requirement already satisfied: funcy in /usr/local/lib/python3.7/dist-packages (from pyLDAvis) (1.15)\n",
            "Requirement already satisfied: gensim in /usr/local/lib/python3.7/dist-packages (from pyLDAvis) (3.6.0)\n",
            "Requirement already satisfied: future in /usr/local/lib/python3.7/dist-packages (from pyLDAvis) (0.16.0)\n",
            "Requirement already satisfied: numexpr in /usr/local/lib/python3.7/dist-packages (from pyLDAvis) (2.7.3)\n",
            "Requirement already satisfied: sklearn in /usr/local/lib/python3.7/dist-packages (from pyLDAvis) (0.0)\n",
            "Requirement already satisfied: jinja2 in /usr/local/lib/python3.7/dist-packages (from pyLDAvis) (2.11.3)\n",
            "Requirement already satisfied: scipy in /usr/local/lib/python3.7/dist-packages (from pyLDAvis) (1.4.1)\n",
            "Requirement already satisfied: pandas>=1.2.0 in /usr/local/lib/python3.7/dist-packages (from pyLDAvis) (1.2.4)\n",
            "Requirement already satisfied: scikit-learn in /usr/local/lib/python3.7/dist-packages (from pyLDAvis) (0.22.2.post1)\n",
            "Requirement already satisfied: six>=1.5.0 in /usr/local/lib/python3.7/dist-packages (from gensim->pyLDAvis) (1.15.0)\n",
            "Requirement already satisfied: smart-open>=1.2.1 in /usr/local/lib/python3.7/dist-packages (from gensim->pyLDAvis) (5.0.0)\n",
            "Requirement already satisfied: MarkupSafe>=0.23 in /usr/local/lib/python3.7/dist-packages (from jinja2->pyLDAvis) (1.1.1)\n",
            "Requirement already satisfied: pytz>=2017.3 in /usr/local/lib/python3.7/dist-packages (from pandas>=1.2.0->pyLDAvis) (2018.9)\n",
            "Requirement already satisfied: python-dateutil>=2.7.3 in /usr/local/lib/python3.7/dist-packages (from pandas>=1.2.0->pyLDAvis) (2.8.1)\n"
          ],
          "name": "stdout"
        }
      ]
    },
    {
      "cell_type": "code",
      "metadata": {
        "colab": {
          "base_uri": "https://localhost:8080/"
        },
        "id": "Y-cj5de_FhWe",
        "outputId": "745d70d9-e9e4-45f3-a99e-189001e3c15a"
      },
      "source": [
        "import pickle\n",
        "import gensim\n",
        "import pyLDAvis\n",
        "import pyLDAvis.gensim_models\n",
        "import spacy\n",
        "import pandas as pd\n",
        "import nltk; nltk.download('stopwords')\n",
        "import gensim.corpora as corpora\n",
        "from gensim.utils import simple_preprocess\n",
        "from gensim.models import CoherenceModel\n",
        "import re\n",
        "import warnings\n",
        "from pprint import pprint\n",
        "\n",
        "warnings.filterwarnings(\"ignore\")"
      ],
      "execution_count": 3,
      "outputs": [
        {
          "output_type": "stream",
          "text": [
            "[nltk_data] Downloading package stopwords to /root/nltk_data...\n",
            "[nltk_data]   Package stopwords is already up-to-date!\n"
          ],
          "name": "stdout"
        }
      ]
    },
    {
      "cell_type": "code",
      "metadata": {
        "colab": {
          "base_uri": "https://localhost:8080/"
        },
        "id": "pzKD1q0kKRT-",
        "outputId": "fd57e871-3b0d-44c7-e3b4-eb03fe45282b"
      },
      "source": [
        "#importing sentiment data\n",
        "tweets=pd.read_fwf('https://raw.githubusercontent.com/cardiffnlp/tweeteval/main/datasets/sentiment/train_text.txt', header=None)\n",
        "print('Training tweets', tweets.shape)\n",
        "\n",
        "tweets_sentiment=pd.read_fwf('https://raw.githubusercontent.com/cardiffnlp/tweeteval/main/datasets/sentiment/train_labels.txt', header=None)\n",
        "print('Training labels', tweets_sentiment.shape)\n",
        "\n",
        "tweets_test=pd.read_fwf('https://raw.githubusercontent.com/cardiffnlp/tweeteval/main/datasets/sentiment/test_text.txt', header=None)\n",
        "print('Test tweets',tweets_test.shape)\n",
        "\n",
        "tweets_test_sentiment=pd.read_fwf('https://raw.githubusercontent.com/cardiffnlp/tweeteval/main/datasets/sentiment/test_labels.txt', header=None)\n",
        "print('Test labels',tweets_test_sentiment.shape)"
      ],
      "execution_count": 4,
      "outputs": [
        {
          "output_type": "stream",
          "text": [
            "Training tweets (45615, 2)\n",
            "Training labels (45615, 1)\n",
            "Test tweets (12284, 1)\n",
            "Test labels (12284, 1)\n"
          ],
          "name": "stdout"
        }
      ]
    },
    {
      "cell_type": "code",
      "metadata": {
        "colab": {
          "base_uri": "https://localhost:8080/",
          "height": 197
        },
        "id": "OLgO9JhJKczi",
        "outputId": "9dc2359e-bac4-4be9-ecbb-9f6b33f47a93"
      },
      "source": [
        "\n",
        "tweets.head()"
      ],
      "execution_count": 8,
      "outputs": [
        {
          "output_type": "execute_result",
          "data": {
            "text/html": [
              "<div>\n",
              "<style scoped>\n",
              "    .dataframe tbody tr th:only-of-type {\n",
              "        vertical-align: middle;\n",
              "    }\n",
              "\n",
              "    .dataframe tbody tr th {\n",
              "        vertical-align: top;\n",
              "    }\n",
              "\n",
              "    .dataframe thead th {\n",
              "        text-align: right;\n",
              "    }\n",
              "</style>\n",
              "<table border=\"1\" class=\"dataframe\">\n",
              "  <thead>\n",
              "    <tr style=\"text-align: right;\">\n",
              "      <th></th>\n",
              "      <th>0</th>\n",
              "      <th>1</th>\n",
              "    </tr>\n",
              "  </thead>\n",
              "  <tbody>\n",
              "    <tr>\n",
              "      <th>0</th>\n",
              "      <td>\"QT @user In the original draft of the 7th boo...</td>\n",
              "      <td>NaN</td>\n",
              "    </tr>\n",
              "    <tr>\n",
              "      <th>1</th>\n",
              "      <td>\"Ben Smith / Smith (concussion) remains out of...</td>\n",
              "      <td>NaN</td>\n",
              "    </tr>\n",
              "    <tr>\n",
              "      <th>2</th>\n",
              "      <td>Sorry bout the stream last night I crashed out...</td>\n",
              "      <td>NaN</td>\n",
              "    </tr>\n",
              "    <tr>\n",
              "      <th>3</th>\n",
              "      <td>Chase Headley's RBI double in the 8th inning o...</td>\n",
              "      <td>NaN</td>\n",
              "    </tr>\n",
              "    <tr>\n",
              "      <th>4</th>\n",
              "      <td>@user Alciato: Bee will invest 150 million in ...</td>\n",
              "      <td>NaN</td>\n",
              "    </tr>\n",
              "  </tbody>\n",
              "</table>\n",
              "</div>"
            ],
            "text/plain": [
              "                                                   0    1\n",
              "0  \"QT @user In the original draft of the 7th boo...  NaN\n",
              "1  \"Ben Smith / Smith (concussion) remains out of...  NaN\n",
              "2  Sorry bout the stream last night I crashed out...  NaN\n",
              "3  Chase Headley's RBI double in the 8th inning o...  NaN\n",
              "4  @user Alciato: Bee will invest 150 million in ...  NaN"
            ]
          },
          "metadata": {
            "tags": []
          },
          "execution_count": 8
        }
      ]
    },
    {
      "cell_type": "code",
      "metadata": {
        "colab": {
          "base_uri": "https://localhost:8080/"
        },
        "id": "34kZ-BD8K5EE",
        "outputId": "f6b12241-171c-462c-da1a-7bf5766aeace"
      },
      "source": [
        "from nltk.corpus import stopwords\n",
        "stop_words = stopwords.words('english')\n",
        "\n",
        "def strip_newline(series):\n",
        "    return [review.replace('\\n','') for review in series]\n",
        "\n",
        "tweets[0] = strip_newline(tweets[0])\n",
        "tweets[0][20:42].values"
      ],
      "execution_count": 13,
      "outputs": [
        {
          "output_type": "execute_result",
          "data": {
            "text/plain": [
              "array(['@user @user 1st uneasyness was when he got v defensive about the Charlie Hebdo stuff, even tho he had pals patiently explaining\"',\n",
              "       'Reminder: Samsung Unveils the Galaxy Note 5 and S6 Edge+ Tomorrow Morning! - - #tech #news...',\n",
              "       '\"Gonna do a movie marathon with my friend today and tomorrow. Twilight, New Moon, Eclipse, BD1, The Runaways, Adventureland, (c)\"',\n",
              "       'Oscars Well makes his debut over fences at Punchestown tomorrow. It looks as though he\\\\u2019ll have Plan A and Darwins Fox to overcome.',\n",
              "       'Q2 10:30. Philip Rivers pass to Eddie Royal to the San Diego 19 for 7 yards. 3rd & 1.',\n",
              "       '@user Work colleague of mine on Thursday night: \"\"oh, look, they\\'re showing the Bee Gees on video.\"\" 23-yr old colleague: \"\"who?\"\"\"',\n",
              "       \"Who's going to get them Gucci foams tomorrow\",\n",
              "       'Yes glass of red\\\\u002c Rammstein and day off tomorrow (thank you @user just what I needed.',\n",
              "       'Vampettes we are back on the 21st place keep tweeting with the hashtag #MTVStars The Vamps #MTVStarsOf2015',\n",
              "       'Ryan Braun returned to the lineup on Wednesday after missing two games with lower back tightness.',\n",
              "       '\"#Ichiro has nothing. If you want to see hustle: Kenny Lofton, 17 October 1995, scores from second base on a past ball. #GoTribe #ALDS\"',\n",
              "       'Looking forward to going to Carrow Rd tonight. Last time we were there\\\\u002c Bale scored 2 and we were 3rd. Do not want extra time though',\n",
              "       'Gonna go to the north game tomorrow night. I better see some of you north kiddos',\n",
              "       'Right guys\\\\u002c last competition of the night... Like this status for a chance to win a copy of Judas Priest\\\\u2019s 30th...',\n",
              "       'We\\\\u2019re in the studio working on the new album and it sounds EPIC. We may as well pick up our Brit Award now\\\\u002c tbh.',\n",
              "       '\"last day of august, waiting for frank ocean to pull a beyonce.',\n",
              "       '#INFO --> Grand opening sharetea bubble tea with @user 2 nov 2012 mall taman anggrek 11:00 - 14:00 * Jadwal ke-1 besok !',\n",
              "       'Sunday (tomorrow) is National Ice Cream Day and have we got a gift for you!   Join us for an ice cream sundae and...',\n",
              "       'Gucci pants himself store january lay open the span thine atomic irruptive concomitant so that cons comburent:...',\n",
              "       'still not over how Nicki snapped like a 12th grader on their last day of high school',\n",
              "       'I may or may not buy myself the illustrated version of Harry potter for my birthday',\n",
              "       'I wanna see STUDIO FOOTAGE SO BAD. We are about to hear some unreleased STUFF! Likeeeeeeeeee I can\\\\u2019t wait until Sunday.'],\n",
              "      dtype=object)"
            ]
          },
          "metadata": {
            "tags": []
          },
          "execution_count": 13
        }
      ]
    },
    {
      "cell_type": "code",
      "metadata": {
        "colab": {
          "base_uri": "https://localhost:8080/"
        },
        "id": "U9z6yQHRHQLC",
        "outputId": "5122231d-6ed0-4953-f980-2e14e0b37eb0"
      },
      "source": [
        "def sent_to_words(sentences):\n",
        "    for sentence in sentences:\n",
        "        yield(gensim.utils.simple_preprocess(str(sentence), deacc=True))\n",
        "\n",
        "tweet_words = list(sent_to_words(tweets[0]))\n",
        "\n",
        "tweet_words[21][:10]"
      ],
      "execution_count": 15,
      "outputs": [
        {
          "output_type": "execute_result",
          "data": {
            "text/plain": [
              "['reminder',\n",
              " 'samsung',\n",
              " 'unveils',\n",
              " 'the',\n",
              " 'galaxy',\n",
              " 'note',\n",
              " 'and',\n",
              " 'edge',\n",
              " 'tomorrow',\n",
              " 'morning']"
            ]
          },
          "metadata": {
            "tags": []
          },
          "execution_count": 15
        }
      ]
    },
    {
      "cell_type": "code",
      "metadata": {
        "colab": {
          "base_uri": "https://localhost:8080/"
        },
        "id": "q6Uj_02XIS8p",
        "outputId": "d3e795e6-b4b6-4b5c-9f12-e3bcf58b2671"
      },
      "source": [
        "def remove_stopwords(texts):\n",
        "    return [[word for word in simple_preprocess(str(doc)) if word not in stop_words] for doc in texts]\n",
        "\n",
        "tweet_words = remove_stopwords(tweet_words)\n",
        "\n",
        "def bigrams(words, bi_min=15, tri_min=10):\n",
        "    bigram = gensim.models.Phrases(words, min_count = bi_min)\n",
        "    trigram = gensim.models.Phrases(bigram[words], min_count = tri_min)\n",
        "    bigram_mod = gensim.models.phrases.Phraser(bigram)\n",
        "    trigram_mod = gensim.models.phrases.Phraser(trigram)\n",
        "    return bigram_mod, trigram_mod\n",
        "\n",
        "bigram_tr, trigram_tr = bigrams(tweet_words)\n",
        "\n",
        "print(trigram_tr[bigram_tr[tweet_words[0]]][:200])"
      ],
      "execution_count": 17,
      "outputs": [
        {
          "output_type": "stream",
          "text": [
            "['qt', 'user', 'original', 'draft', 'th', 'book', 'remus', 'lupin', 'survived', 'battle', 'hogwarts']\n"
          ],
          "name": "stdout"
        }
      ]
    },
    {
      "cell_type": "code",
      "metadata": {
        "id": "SpMm1ifpKGGL"
      },
      "source": [
        "nlp = spacy.load('en', disable=['parser', 'ner'])\n",
        "\n",
        "warnings.filterwarnings(\"ignore\")\n",
        "\n",
        "def lemmatization(texts, allowed_postags=['NOUN','ADJ','VERB','ADV']):\n",
        "    texts_out = []\n",
        "    for sent in texts:\n",
        "        doc = nlp(\" \".join(sent)) \n",
        "        texts_out.append([token.lemma_ for token in doc if token.pos_ in allowed_postags])\n",
        "    return texts_out\n",
        "\n",
        "trigrams_tr = [trigram_tr[bigram_tr[review]] for review in tweet_words]\n",
        "\n",
        "lemma_lg = lemmatization(trigrams_tr)"
      ],
      "execution_count": 19,
      "outputs": []
    },
    {
      "cell_type": "code",
      "metadata": {
        "colab": {
          "base_uri": "https://localhost:8080/"
        },
        "id": "b76TAFv3K2ng",
        "outputId": "88b142a1-3355-491e-b449-e5afda021245"
      },
      "source": [
        "lemma_lg[0][:20]\n",
        "\n",
        "id2word_lg = gensim.corpora.Dictionary(lemma_lg)\n",
        "id2word_lg.filter_extremes(no_below=10, no_above=0.35)\n",
        "id2word_lg.compactify()\n",
        "id2word_lg.save('train_dict_lg')\n",
        "corpus_lg = [id2word_lg.doc2bow(text) for text in lemma_lg]\n",
        "\n",
        "corpus_lg[22][:10]\n"
      ],
      "execution_count": 20,
      "outputs": [
        {
          "output_type": "execute_result",
          "data": {
            "text/plain": [
              "[(42, 1), (57, 1), (97, 1), (98, 1), (99, 1), (100, 1)]"
            ]
          },
          "metadata": {
            "tags": []
          },
          "execution_count": 20
        }
      ]
    },
    {
      "cell_type": "code",
      "metadata": {
        "colab": {
          "base_uri": "https://localhost:8080/"
        },
        "id": "hwR9yp8XTQy4",
        "outputId": "05a6e143-7bed-465b-a070-de6a68011075"
      },
      "source": [
        "from gensim.models import HdpModel\n",
        "hdp = HdpModel(corpus_lg, id2word_lg, chunksize=10000)\n",
        "\n",
        "len(hdp.print_topics())"
      ],
      "execution_count": 27,
      "outputs": [
        {
          "output_type": "execute_result",
          "data": {
            "text/plain": [
              "20"
            ]
          },
          "metadata": {
            "tags": []
          },
          "execution_count": 27
        }
      ]
    },
    {
      "cell_type": "code",
      "metadata": {
        "colab": {
          "base_uri": "https://localhost:8080/"
        },
        "id": "w2KSLLspUnBl",
        "outputId": "6989ab40-e698-4108-bd3d-8855abf5ede9"
      },
      "source": [
        "hdp.print_topics(num_topics=20)"
      ],
      "execution_count": 28,
      "outputs": [
        {
          "output_type": "execute_result",
          "data": {
            "text/plain": [
              "[(0,\n",
              "  '0.003*gandhi + 0.003*sooner + 0.002*tragedy + 0.002*solution + 0.002*twitter + 0.002*stop + 0.002*occur + 0.002*cap + 0.002*jealous + 0.002*space'),\n",
              " (1,\n",
              "  '0.003*captain + 0.003*gap + 0.002*spark + 0.002*surrender + 0.002*starter + 0.002*note + 0.002*shot + 0.002*going to + 0.002*appointment + 0.002*sweet'),\n",
              " (2,\n",
              "  '0.003*success + 0.002*programme + 0.002*cheap + 0.002*apply + 0.002*one + 0.002*negative + 0.002*everywhere + 0.002*draft + 0.002*terrorist + 0.002*fantasy'),\n",
              " (3,\n",
              "  '0.004*remove + 0.003*twitt + 0.002*lil + 0.002*cowboy + 0.002*window + 0.002*talented + 0.002*seriously + 0.002*stack + 0.002*tea + 0.002*card'),\n",
              " (4,\n",
              "  '0.003*monday_morning + 0.003*release + 0.002*talent + 0.002*pay + 0.002*internet + 0.002*match + 0.002*repeat + 0.002*difference + 0.002*recall + 0.002*tease'),\n",
              " (5,\n",
              "  '0.003*lie + 0.003*surrender + 0.003*performance + 0.003*social + 0.003*hopefully + 0.002*teen + 0.002*bubble + 0.002*happy + 0.002*progress + 0.002*joy'),\n",
              " (6,\n",
              "  '0.003*actor + 0.003*people + 0.002*space + 0.002*spoiler + 0.002*obvious + 0.002*angel + 0.002*cst + 0.002*flat + 0.002*shade + 0.002*edit'),\n",
              " (7,\n",
              "  '0.004*support + 0.003*steady + 0.003*continue + 0.002*traffic + 0.002*step + 0.002*project + 0.002*record + 0.002*fade + 0.002*exit + 0.002*interesting'),\n",
              " (8,\n",
              "  '0.003*steeler + 0.002*manchester + 0.002*segment + 0.002*least + 0.002*hero + 0.002*port + 0.002*joke + 0.002*sue + 0.002*people + 0.002*discussion'),\n",
              " (9,\n",
              "  '0.003*bombing + 0.002*act + 0.002*uncharted + 0.002*appleevent + 0.002*amazon_prime_day + 0.002*appeal + 0.002*sex + 0.002*poetic + 0.002*western + 0.002*falcon'),\n",
              " (10,\n",
              "  '0.003*less + 0.003*celebrate + 0.003*extra + 0.002*naked + 0.002*go + 0.002*whenever + 0.002*graduate + 0.002*solar + 0.002*high + 0.002*sore'),\n",
              " (11,\n",
              "  '0.003*today + 0.002*often + 0.002*youtube + 0.002*mom + 0.002*console + 0.002*pass + 0.002*fab + 0.002*partner + 0.002*san_diego_county_fair + 0.002*car'),\n",
              " (12,\n",
              "  '0.003*harry + 0.003*division + 0.003*saturday_morne + 0.003*trade + 0.002*boat + 0.002*brace + 0.002*security + 0.002*liam + 0.002*chief + 0.002*tonite'),\n",
              " (13,\n",
              "  '0.003*leak + 0.002*devil + 0.002*dunkin_donut + 0.002*podcast + 0.002*beach + 0.002*otherwise + 0.002*worldwide + 0.002*kinda + 0.002*request + 0.002*storm'),\n",
              " (14,\n",
              "  '0.003*rare + 0.003*weak + 0.003*pop + 0.002*demand + 0.002*deep + 0.002*improve + 0.002*suggestion + 0.002*meet + 0.002*pregnant + 0.002*tie'),\n",
              " (15,\n",
              "  '0.003*golfer + 0.003*curious + 0.002*different + 0.002*error + 0.002*effect + 0.002*available + 0.002*steal + 0.002*renew + 0.002*dual + 0.002*broadcast'),\n",
              " (16,\n",
              "  '0.003*tue + 0.003*mess + 0.003*easy + 0.002*know + 0.002*read + 0.002*face + 0.002*lil + 0.002*confidence + 0.002*office + 0.002*minority'),\n",
              " (17,\n",
              "  '0.004*funniest + 0.003*have + 0.002*bombing + 0.002*someday + 0.002*corbyn + 0.002*travel + 0.002*allegation + 0.002*collection + 0.002*main + 0.002*racism'),\n",
              " (18,\n",
              "  '0.003*mail + 0.003*crowd + 0.003*clip + 0.003*totally + 0.002*random + 0.002*suck + 0.002*negotiate + 0.002*crucial + 0.002*be + 0.002*session'),\n",
              " (19,\n",
              "  '0.003*equal + 0.003*deal + 0.003*moderate + 0.002*awaken + 0.002*chinese + 0.002*original + 0.002*set + 0.002*stack + 0.002*certainly + 0.002*lunch')]"
            ]
          },
          "metadata": {
            "tags": []
          },
          "execution_count": 28
        }
      ]
    }
  ]
}