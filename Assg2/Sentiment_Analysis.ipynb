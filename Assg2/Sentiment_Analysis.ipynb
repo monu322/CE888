{
  "nbformat": 4,
  "nbformat_minor": 0,
  "metadata": {
    "colab": {
      "name": "Sentiment Analysis",
      "provenance": [],
      "authorship_tag": "ABX9TyNlk8SaBUZhHRmNVS3E3ngy",
      "include_colab_link": true
    },
    "kernelspec": {
      "name": "python3",
      "display_name": "Python 3"
    },
    "language_info": {
      "name": "python"
    }
  },
  "cells": [
    {
      "cell_type": "markdown",
      "metadata": {
        "id": "view-in-github",
        "colab_type": "text"
      },
      "source": [
        "<a href=\"https://colab.research.google.com/github/monu322/CE888/blob/main/Assg2/Sentiment_Analysis.ipynb\" target=\"_parent\"><img src=\"https://colab.research.google.com/assets/colab-badge.svg\" alt=\"Open In Colab\"/></a>"
      ]
    },
    {
      "cell_type": "code",
      "metadata": {
        "colab": {
          "base_uri": "https://localhost:8080/"
        },
        "id": "K34Rdy6NWKuM",
        "outputId": "d61967a6-81d4-406a-91cb-87eae00a6449"
      },
      "source": [
        "!pip install pyLDAvis"
      ],
      "execution_count": 3,
      "outputs": [
        {
          "output_type": "stream",
          "text": [
            "Requirement already satisfied: pyLDAvis in /usr/local/lib/python3.7/dist-packages (3.3.1)\n",
            "Requirement already satisfied: scipy in /usr/local/lib/python3.7/dist-packages (from pyLDAvis) (1.4.1)\n",
            "Requirement already satisfied: setuptools in /usr/local/lib/python3.7/dist-packages (from pyLDAvis) (56.0.0)\n",
            "Requirement already satisfied: numexpr in /usr/local/lib/python3.7/dist-packages (from pyLDAvis) (2.7.3)\n",
            "Requirement already satisfied: numpy>=1.20.0 in /usr/local/lib/python3.7/dist-packages (from pyLDAvis) (1.20.2)\n",
            "Requirement already satisfied: future in /usr/local/lib/python3.7/dist-packages (from pyLDAvis) (0.16.0)\n",
            "Requirement already satisfied: gensim in /usr/local/lib/python3.7/dist-packages (from pyLDAvis) (3.6.0)\n",
            "Requirement already satisfied: joblib in /usr/local/lib/python3.7/dist-packages (from pyLDAvis) (1.0.1)\n",
            "Requirement already satisfied: scikit-learn in /usr/local/lib/python3.7/dist-packages (from pyLDAvis) (0.22.2.post1)\n",
            "Requirement already satisfied: jinja2 in /usr/local/lib/python3.7/dist-packages (from pyLDAvis) (2.11.3)\n",
            "Requirement already satisfied: sklearn in /usr/local/lib/python3.7/dist-packages (from pyLDAvis) (0.0)\n",
            "Requirement already satisfied: pandas>=1.2.0 in /usr/local/lib/python3.7/dist-packages (from pyLDAvis) (1.2.4)\n",
            "Requirement already satisfied: funcy in /usr/local/lib/python3.7/dist-packages (from pyLDAvis) (1.15)\n",
            "Requirement already satisfied: smart-open>=1.2.1 in /usr/local/lib/python3.7/dist-packages (from gensim->pyLDAvis) (5.0.0)\n",
            "Requirement already satisfied: six>=1.5.0 in /usr/local/lib/python3.7/dist-packages (from gensim->pyLDAvis) (1.15.0)\n",
            "Requirement already satisfied: MarkupSafe>=0.23 in /usr/local/lib/python3.7/dist-packages (from jinja2->pyLDAvis) (1.1.1)\n",
            "Requirement already satisfied: python-dateutil>=2.7.3 in /usr/local/lib/python3.7/dist-packages (from pandas>=1.2.0->pyLDAvis) (2.8.1)\n",
            "Requirement already satisfied: pytz>=2017.3 in /usr/local/lib/python3.7/dist-packages (from pandas>=1.2.0->pyLDAvis) (2018.9)\n"
          ],
          "name": "stdout"
        }
      ]
    },
    {
      "cell_type": "code",
      "metadata": {
        "colab": {
          "base_uri": "https://localhost:8080/"
        },
        "id": "lI2mofwmXCTx",
        "outputId": "48bdc4af-974b-4678-8509-d1afb496eae9"
      },
      "source": [
        "import pickle\n",
        "import gensim\n",
        "import pyLDAvis\n",
        "import pyLDAvis.gensim_models\n",
        "import spacy\n",
        "import pandas as pd\n",
        "import nltk; nltk.download('stopwords')\n",
        "import gensim.corpora as corpora\n",
        "from gensim.utils import simple_preprocess\n",
        "from gensim.models import CoherenceModel\n",
        "import re\n",
        "import warnings\n",
        "from pprint import pprint\n",
        "from sklearn.model_selection import train_test_split\n",
        "import numpy as np\n",
        "from sklearn.metrics import accuracy_score\n",
        "from sklearn.linear_model import LogisticRegression\n",
        "from sklearn.naive_bayes import GaussianNB, MultinomialNB\n",
        "from sklearn.preprocessing import StandardScaler, MinMaxScaler\n",
        "import seaborn as sns\n",
        "%config InlineBackend.figure_formats = ['retina']\n",
        "from sklearn.metrics import f1_score\n",
        "from sklearn import linear_model\n",
        "from sklearn import metrics\n",
        "from sklearn.model_selection import KFold\n",
        "from sklearn.metrics import fbeta_score\n",
        "import matplotlib.pyplot as plt\n",
        "\n",
        "warnings.filterwarnings(\"ignore\")"
      ],
      "execution_count": 4,
      "outputs": [
        {
          "output_type": "stream",
          "text": [
            "[nltk_data] Downloading package stopwords to /root/nltk_data...\n",
            "[nltk_data]   Package stopwords is already up-to-date!\n"
          ],
          "name": "stdout"
        }
      ]
    },
    {
      "cell_type": "code",
      "metadata": {
        "colab": {
          "base_uri": "https://localhost:8080/"
        },
        "id": "a51Wb6exXsup",
        "outputId": "65ef73c2-42fd-40ca-8a64-684075ea1307"
      },
      "source": [
        "#importing sentiment data\n",
        "tweets=pd.read_fwf('https://raw.githubusercontent.com/cardiffnlp/tweeteval/main/datasets/sentiment/train_text.txt', header=None)\n",
        "print('Training tweets', tweets.shape)\n",
        "\n",
        "tweets_sentiment=pd.read_fwf('https://raw.githubusercontent.com/cardiffnlp/tweeteval/main/datasets/sentiment/train_labels.txt', header=None)\n",
        "print('Training labels', tweets_sentiment.shape)\n",
        "\n",
        "tweets_test=pd.read_fwf('https://raw.githubusercontent.com/cardiffnlp/tweeteval/main/datasets/sentiment/test_text.txt', header=None)\n",
        "print('Test tweets',tweets_test.shape)\n",
        "\n",
        "tweets_test_sentiment=pd.read_fwf('https://raw.githubusercontent.com/cardiffnlp/tweeteval/main/datasets/sentiment/test_labels.txt', header=None)\n",
        "print('Test labels',tweets_test_sentiment.shape)"
      ],
      "execution_count": 5,
      "outputs": [
        {
          "output_type": "stream",
          "text": [
            "Training tweets (45615, 2)\n",
            "Training labels (45615, 1)\n",
            "Test tweets (12284, 1)\n",
            "Test labels (12284, 1)\n"
          ],
          "name": "stdout"
        }
      ]
    },
    {
      "cell_type": "code",
      "metadata": {
        "id": "rs7YFUEdau3t"
      },
      "source": [
        "tweets.columns = ['text', 'user']\n",
        "tweets_test.columns = ['text']"
      ],
      "execution_count": 34,
      "outputs": []
    },
    {
      "cell_type": "code",
      "metadata": {
        "colab": {
          "base_uri": "https://localhost:8080/",
          "height": 516
        },
        "id": "359_psn7XxjJ",
        "outputId": "0e9418c3-ce04-406d-c495-498134abd180"
      },
      "source": [
        "plt.figure(figsize=(10,8))\n",
        "plt.rcParams.update({'font.size': 20})\n",
        "sns.countplot(0, data = tweets_sentiment)\n",
        "plt.ylabel('Count')\n",
        "plt.xlabel('Sentiment');"
      ],
      "execution_count": 16,
      "outputs": [
        {
          "output_type": "display_data",
          "data": {
            "image/png": "[encoded data removed]",
            "text/plain": [
              "<Figure size 720x576 with 1 Axes>"
            ]
          },
          "metadata": {
            "tags": [],
            "image/png": {
              "width": 666,
              "height": 500
            },
            "needs_background": "light"
          }
        }
      ]
    },
    {
      "cell_type": "code",
      "metadata": {
        "colab": {
          "base_uri": "https://localhost:8080/",
          "height": 516
        },
        "id": "0S6nfFffmV00",
        "outputId": "dc201cfa-deb1-42f7-e614-7ca6b784bd9b"
      },
      "source": [
        "plt.figure(figsize=(10,8))\n",
        "plt.rcParams.update({'font.size': 20})\n",
        "sns.countplot(0, data = tweets_test_sentiment)\n",
        "plt.ylabel('Count')\n",
        "plt.xlabel('Sentiment');"
      ],
      "execution_count": 35,
      "outputs": [
        {
          "output_type": "display_data",
          "data": {
            "image/png": "[encoded data removed]",
            "text/plain": [
              "<Figure size 720x576 with 1 Axes>"
            ]
          },
          "metadata": {
            "tags": [],
            "image/png": {
              "width": 654,
              "height": 500
            },
            "needs_background": "light"
          }
        }
      ]
    },
    {
      "cell_type": "code",
      "metadata": {
        "id": "UBMG4WtdY4fn"
      },
      "source": [
        "train_corpus4, train_id2word4, bigram_train4 = get_corpus(tweets)"
      ],
      "execution_count": 70,
      "outputs": []
    },
    {
      "cell_type": "code",
      "metadata": {
        "id": "pY4_zJmbbqzq"
      },
      "source": [
        "import logging\n",
        "logging.basicConfig(filename='lda_model.log', format='%(asctime)s : %(levelname)s : %(message)s', level=logging.INFO)\n",
        "\n",
        "with warnings.catch_warnings():\n",
        "    warnings.simplefilter('ignore')\n",
        "    lda_train4 = gensim.models.ldamulticore.LdaMulticore(\n",
        "                           corpus=train_corpus4,\n",
        "                           num_topics=10,\n",
        "                           id2word=train_id2word4,\n",
        "                           chunksize=100,\n",
        "                           workers=7, # Num. Processing Cores - 1\n",
        "                           passes=50,\n",
        "                           eval_every = 1,\n",
        "                           per_word_topics=True)"
      ],
      "execution_count": 65,
      "outputs": []
    },
    {
      "cell_type": "code",
      "metadata": {
        "colab": {
          "base_uri": "https://localhost:8080/"
        },
        "id": "r2fMbHVge1Qq",
        "outputId": "f22fd389-123f-4990-f145-2846f801553d"
      },
      "source": [
        "coherence_model_lda = CoherenceModel(model=lda_train4, texts=bigram_train4, dictionary=train_id2word4, coherence='c_v')\n",
        "coherence_lda = coherence_model_lda.get_coherence()\n",
        "coherence_lda"
      ],
      "execution_count": 67,
      "outputs": [
        {
          "output_type": "execute_result",
          "data": {
            "text/plain": [
              "0.25328598539159974"
            ]
          },
          "metadata": {
            "tags": []
          },
          "execution_count": 67
        }
      ]
    },
    {
      "cell_type": "code",
      "metadata": {
        "colab": {
          "base_uri": "https://localhost:8080/"
        },
        "id": "6feQxm0TgAiz",
        "outputId": "6473f6e9-6abb-4f23-a846-ce4e40f6211b"
      },
      "source": [
        "lda_train4.print_topics(40,num_words=15)[:40]"
      ],
      "execution_count": 68,
      "outputs": [
        {
          "output_type": "execute_result",
          "data": {
            "text/plain": [
              "[(0,\n",
              "  '0.014*\"friday\" + 0.014*\"th\" + 0.009*\"ice_cube\" + 0.009*\"rt_user\" + 0.009*\"thursday\" + 0.009*\"says\" + 0.008*\"nfl\" + 0.008*\"st\" + 0.008*\"sunday\" + 0.008*\"tom_brady\" + 0.007*\"via_user\" + 0.007*\"said\" + 0.007*\"times\" + 0.007*\"scott_walker\" + 0.006*\"music\"'),\n",
              " (1,\n",
              "  '0.124*\"user\" + 0.049*\"tomorrow\" + 0.022*\"see\" + 0.016*\"going\" + 0.015*\"get\" + 0.013*\"come\" + 0.012*\"go\" + 0.010*\"friday\" + 0.010*\"sunday\" + 0.010*\"tonight\" + 0.009*\"saturday\" + 0.009*\"night\" + 0.009*\"day\" + 0.008*\"work\" + 0.007*\"amp\"'),\n",
              " (2,\n",
              "  '0.016*\"sunday\" + 0.014*\"monday_night\" + 0.013*\"murray\" + 0.012*\"amp\" + 0.012*\"raw\" + 0.011*\"john_cena\" + 0.010*\"match\" + 0.009*\"seth_rollins\" + 0.009*\"real_madrid\" + 0.008*\"wwe\" + 0.008*\"star\" + 0.008*\"brock_lesnar\" + 0.007*\"full\" + 0.007*\"th\" + 0.007*\"video\"'),\n",
              " (3,\n",
              "  '0.079*\"tomorrow\" + 0.045*\"day\" + 0.031*\"going\" + 0.016*\"night\" + 0.013*\"happy\" + 0.013*\"concert\" + 0.012*\"gonna\" + 0.010*\"watch\" + 0.010*\"see\" + 0.010*\"go\" + 0.010*\"school\" + 0.009*\"get\" + 0.009*\"today\" + 0.009*\"party\" + 0.008*\"sunday\"'),\n",
              " (4,\n",
              "  '0.079*\"may\" + 0.067*\"user\" + 0.011*\"like\" + 0.009*\"think\" + 0.008*\"get\" + 0.008*\"would\" + 0.007*\"one\" + 0.007*\"amp\" + 0.007*\"know\" + 0.007*\"want\" + 0.006*\"people\" + 0.006*\"world\" + 0.006*\"well\" + 0.006*\"muslims\" + 0.005*\"st\"'),\n",
              " (5,\n",
              "  '0.026*\"th\" + 0.020*\"st\" + 0.018*\"season\" + 0.018*\"nd\" + 0.014*\"rd\" + 0.011*\"album\" + 0.010*\"sunday\" + 0.010*\"year\" + 0.009*\"last\" + 0.009*\"time\" + 0.008*\"back\" + 0.008*\"first\" + 0.008*\"game\" + 0.007*\"away\" + 0.007*\"sharknado\"'),\n",
              " (6,\n",
              "  '0.051*\"user\" + 0.029*\"may\" + 0.014*\"st\" + 0.013*\"like\" + 0.013*\"sun\" + 0.012*\"th\" + 0.009*\"rd\" + 0.008*\"said\" + 0.008*\"nd\" + 0.007*\"sat\" + 0.007*\"one\" + 0.007*\"lol\" + 0.007*\"place\" + 0.007*\"day\" + 0.007*\"know\"'),\n",
              " (7,\n",
              "  '0.017*\"pm\" + 0.014*\"new\" + 0.009*\"event\" + 0.008*\"saturday\" + 0.008*\"open\" + 0.008*\"today\" + 0.008*\"wednesday\" + 0.008*\"apple\" + 0.007*\"nov\" + 0.007*\"foo_fighters\" + 0.006*\"sun\" + 0.006*\"baby\" + 0.006*\"september\" + 0.006*\"london\" + 0.006*\"news\"'),\n",
              " (8,\n",
              "  '0.029*\"user\" + 0.022*\"may\" + 0.015*\"th\" + 0.012*\"st\" + 0.011*\"time\" + 0.011*\"one\" + 0.009*\"amp\" + 0.009*\"like\" + 0.008*\"remember\" + 0.008*\"song\" + 0.008*\"still\" + 0.007*\"nd\" + 0.007*\"friday\" + 0.007*\"new\" + 0.007*\"since\"'),\n",
              " (9,\n",
              "  '0.038*\"game\" + 0.026*\"th\" + 0.013*\"saturday\" + 0.012*\"tickets\" + 0.011*\"run\" + 0.011*\"vs\" + 0.010*\"going\" + 0.009*\"football\" + 0.009*\"band\" + 0.009*\"tonight\" + 0.009*\"friday\" + 0.008*\"oct\" + 0.008*\"friday_night\" + 0.007*\"red_sox\" + 0.007*\"playing\"')]"
            ]
          },
          "metadata": {
            "tags": []
          },
          "execution_count": 68
        }
      ]
    },
    {
      "cell_type": "code",
      "metadata": {
        "colab": {
          "base_uri": "https://localhost:8080/"
        },
        "id": "X7BzxamYgMgd",
        "outputId": "163e03f6-c1fe-4216-be55-8058362f6ecc"
      },
      "source": [
        "train_vecs = []\n",
        "\n",
        "for i in range(len(tweets)):\n",
        "    top_topics = lda_train4.get_document_topics(train_corpus4[i], minimum_probability=0.0)\n",
        "    topic_vec = [top_topics[i][1] for i in range(10)]\n",
        "    train_vecs.append(topic_vec)\n",
        "\n",
        "print(\"Document topic matrix of 1st review: \", train_vecs[0])"
      ],
      "execution_count": 71,
      "outputs": [
        {
          "output_type": "stream",
          "text": [
            "Document topic matrix of 1st review:  [0.012503136, 0.012508917, 0.012500192, 0.012500156, 0.012504789, 0.61343026, 0.012503943, 0.012501038, 0.28654647, 0.012501149]\n"
          ],
          "name": "stdout"
        }
      ]
    },
    {
      "cell_type": "code",
      "metadata": {
        "colab": {
          "base_uri": "https://localhost:8080/"
        },
        "id": "KLYbnRf9gpKU",
        "outputId": "7757b8f1-ecbb-4285-df45-56f932589479"
      },
      "source": [
        "import warnings\n",
        "warnings.filterwarnings('ignore')\n",
        "\n",
        "X = np.array(train_vecs)\n",
        "y = np.array(tweets_sentiment[0])\n",
        "\n",
        "kf = KFold(5, shuffle=True, random_state=42)\n",
        "cv_lr_f1, cv_lrsgd_f1, cv_svcsgd_f1,  = [], [], []\n",
        "\n",
        "for train_ind, val_ind in kf.split(X, y):\n",
        "    # Assign CV IDX\n",
        "    X_train, y_train = X[train_ind], y[train_ind]\n",
        "    X_val, y_val = X[val_ind], y[val_ind]\n",
        "    \n",
        "    # Scale Data\n",
        "    scaler = StandardScaler()\n",
        "    X_train_scale = scaler.fit_transform(X_train)\n",
        "    X_val_scale = scaler.transform(X_val)\n",
        "\n",
        "    # Logisitic Regression\n",
        "    lr = LogisticRegression(\n",
        "        class_weight= 'balanced',\n",
        "        solver='newton-cg',\n",
        "        fit_intercept=True\n",
        "    ).fit(X_train_scale, y_train)\n",
        "\n",
        "    y_pred = lr.predict(X_val_scale)\n",
        "    cv_lr_f1.append(f1_score(y_val, y_pred, average='weighted'))\n",
        "    \n",
        "    #Mini-Batch SGD\n",
        "    sgd = linear_model.SGDClassifier(\n",
        "        max_iter=1000,\n",
        "        tol=1e-3,\n",
        "        loss='log',\n",
        "        class_weight='balanced'\n",
        "    ).fit(X_train_scale, y_train)\n",
        "    \n",
        "    y_pred = sgd.predict(X_val_scale)\n",
        "    cv_lrsgd_f1.append(f1_score(y_val, y_pred, average='weighted'))\n",
        "    \n",
        "    # SGD Modified Huber\n",
        "    sgd_huber = linear_model.SGDClassifier(\n",
        "        max_iter=1000,\n",
        "        tol=1e-3,\n",
        "        alpha=20,\n",
        "        loss='modified_huber',\n",
        "        class_weight='balanced'\n",
        "    ).fit(X_train_scale, y_train)\n",
        "    \n",
        "    y_pred = sgd_huber.predict(X_val_scale)\n",
        "    cv_svcsgd_f1.append(f1_score(y_val, y_pred, average='weighted'))\n",
        "\n",
        "print(f'Logistic Regression Val f1: {np.mean(cv_lr_f1):.3f} +- {np.std(cv_lr_f1):.3f}')\n",
        "print(f'Logisitic Regression SGD Val f1: {np.mean(cv_lrsgd_f1):.3f} +- {np.std(cv_lrsgd_f1):.3f}')\n",
        "print(f'SGD Huber Val f1: {np.mean(cv_svcsgd_f1):.3f} +- {np.std(cv_svcsgd_f1):.3f}')\n"
      ],
      "execution_count": 72,
      "outputs": [
        {
          "output_type": "stream",
          "text": [
            "Logistic Regression Val f1: 0.436 +- 0.003\n",
            "Logisitic Regression SGD Val f1: 0.461 +- 0.004\n",
            "SGD Huber Val f1: 0.301 +- 0.082\n"
          ],
          "name": "stdout"
        }
      ]
    },
    {
      "cell_type": "code",
      "metadata": {
        "id": "0kSH6H2umCmH"
      },
      "source": [
        "test_corpus4, test_id2word4, bigram_test4 = get_corpus(tweets_test)"
      ],
      "execution_count": 73,
      "outputs": []
    },
    {
      "cell_type": "code",
      "metadata": {
        "colab": {
          "base_uri": "https://localhost:8080/"
        },
        "id": "HFDMeiqtmqZq",
        "outputId": "cb7002da-d643-4b61-fe79-0b6e0fba1e86"
      },
      "source": [
        "test_vecs = []\n",
        "\n",
        "for i in range(len(tweets_test)):\n",
        "    top_topics = lda_train4.get_document_topics(train_corpus4[i], minimum_probability=0.0)\n",
        "    topic_vec = [top_topics[i][1] for i in range(10)]\n",
        "    test_vecs.append(topic_vec)\n",
        "\n",
        "print(\"Document topic matrix of 1st review: \", test_vecs[0])"
      ],
      "execution_count": 75,
      "outputs": [
        {
          "output_type": "stream",
          "text": [
            "Document topic matrix of 1st review:  [0.012503138, 0.012508847, 0.012500193, 0.012500157, 0.012504787, 0.6134154, 0.0125039425, 0.012501039, 0.2865613, 0.012501151]\n"
          ],
          "name": "stdout"
        }
      ]
    },
    {
      "cell_type": "code",
      "metadata": {
        "id": "heVISPq5nUUf"
      },
      "source": [
        "from sklearn import svm\n",
        "\n",
        "X_test = np.array(test_vecs)\n",
        "y_test = np.array(tweets_test_sentiment[0])\n",
        "\n",
        "#Create a svm Classifier\n",
        "clf = svm.SVC(kernel='linear') # Linear Kernel\n",
        "\n",
        "#Train the model using the training sets\n",
        "clf.fit(X, y)\n",
        "\n",
        "#Predict the response for test dataset\n",
        "y_pred = clf.predict(X_test)"
      ],
      "execution_count": 76,
      "outputs": []
    },
    {
      "cell_type": "code",
      "metadata": {
        "colab": {
          "base_uri": "https://localhost:8080/"
        },
        "id": "Lp1kTdOyonGu",
        "outputId": "825c1b19-9f43-4e31-80da-f0180e0eb2dd"
      },
      "source": [
        "from sklearn import metrics\n",
        "\n",
        "# Model Accuracy: how often is the classifier correct?\n",
        "print(\"Accuracy:\",metrics.f1_score(y_test, y_pred, average='weighted'))"
      ],
      "execution_count": 78,
      "outputs": [
        {
          "output_type": "stream",
          "text": [
            "Accuracy: 0.3223989301986505\n"
          ],
          "name": "stdout"
        }
      ]
    }
  ]
}